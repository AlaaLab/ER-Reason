{
 "cells": [
  {
   "cell_type": "code",
   "execution_count": 1,
   "metadata": {},
   "outputs": [],
   "source": [
    "## acuity prediction for gpt 3.5 "
   ]
  },
  {
   "cell_type": "code",
   "execution_count": 2,
   "metadata": {},
   "outputs": [],
   "source": [
    "import pandas as pd\n",
    "pd.set_option('display.max_rows', None)  # Display all rows\n",
    "pd.set_option('display.max_columns', None)  # Display all columns\n",
    "pd.set_option('display.max_colwidth', None)  # Set max column width to None\n",
    "pd.set_option('display.width', None)  # Set width to None\n",
    "df = pd.read_csv('results.csv')"
   ]
  },
  {
   "cell_type": "code",
   "execution_count": 5,
   "metadata": {},
   "outputs": [],
   "source": [
    "import pandas as pd\n",
    "import os\n",
    "import re\n",
    "import json\n",
    "import base64\n",
    "import requests\n",
    "import time\n",
    "import urllib.parse\n",
    "\n",
    "pd.set_option('display.max_rows', None)  # Display all rows\n",
    "pd.set_option('display.max_columns', None)  # Display all columns\n",
    "pd.set_option('display.max_colwidth', None)  # Set max column width to None\n",
    "pd.set_option('display.width', None)  # Set width to None\n",
    "\n",
    "API_KEY = 'x'  ##### Paste your API key between the quotes #####\n",
    "API_VERSION = '2024-06-01'  # For the most recent production release: https://learn.microsoft.com/en-us/azure/ai-services/openai/api-version-deprecation#latest-ga-api-release\n",
    "RESOURCE_ENDPOINT = 'x'  # no trailing slash--this is used by libraries as a partial URL\n",
    "DEPLOYMENT_NAME = 'gpt-35-turbo' "
   ]
  },
  {
   "cell_type": "code",
   "execution_count": 6,
   "metadata": {
    "collapsed": true,
    "jupyter": {
     "outputs_hidden": true
    }
   },
   "outputs": [
    {
     "name": "stdout",
     "output_type": "stream",
     "text": [
      "Loading data...\n",
      "Loaded 3977 records\n",
      "Starting prediction process with all information...\n",
      "Processing batch 1/199, records 0-20\n"
     ]
    },
    {
     "name": "stderr",
     "output_type": "stream",
     "text": [
      "100%|██████████| 20/20 [00:16<00:00,  1.23it/s]\n"
     ]
    },
    {
     "name": "stdout",
     "output_type": "stream",
     "text": [
      "Progress: 20/3977 records (0.5%)\n",
      "Speed: 1.23 records/second\n",
      "Est. time remaining: 53.8 minutes\n",
      "Checkpoint saved at: 35_acuity_predictions_all_info.csv\n",
      "Processing batch 2/199, records 20-40\n"
     ]
    },
    {
     "name": "stderr",
     "output_type": "stream",
     "text": [
      "100%|██████████| 20/20 [00:12<00:00,  1.57it/s]\n"
     ]
    },
    {
     "name": "stdout",
     "output_type": "stream",
     "text": [
      "Progress: 40/3977 records (1.0%)\n",
      "Speed: 1.28 records/second\n",
      "Est. time remaining: 51.1 minutes\n",
      "Checkpoint saved at: 35_acuity_predictions_all_info.csv\n",
      "Processing batch 3/199, records 40-60\n"
     ]
    },
    {
     "name": "stderr",
     "output_type": "stream",
     "text": [
      "100%|██████████| 20/20 [00:15<00:00,  1.27it/s]\n"
     ]
    },
    {
     "name": "stdout",
     "output_type": "stream",
     "text": [
      "Progress: 60/3977 records (1.5%)\n",
      "Speed: 1.23 records/second\n",
      "Est. time remaining: 53.2 minutes\n",
      "Checkpoint saved at: 35_acuity_predictions_all_info.csv\n",
      "Processing batch 4/199, records 60-80\n"
     ]
    },
    {
     "name": "stderr",
     "output_type": "stream",
     "text": [
      "100%|██████████| 20/20 [00:13<00:00,  1.51it/s]\n"
     ]
    },
    {
     "name": "stdout",
     "output_type": "stream",
     "text": [
      "Progress: 80/3977 records (2.0%)\n",
      "Speed: 1.24 records/second\n",
      "Est. time remaining: 52.2 minutes\n",
      "Checkpoint saved at: 35_acuity_predictions_all_info.csv\n",
      "Processing batch 5/199, records 80-100\n"
     ]
    },
    {
     "name": "stderr",
     "output_type": "stream",
     "text": [
      "100%|██████████| 20/20 [00:14<00:00,  1.42it/s]\n"
     ]
    },
    {
     "name": "stdout",
     "output_type": "stream",
     "text": [
      "Progress: 100/3977 records (2.5%)\n",
      "Speed: 1.24 records/second\n",
      "Est. time remaining: 52.1 minutes\n",
      "Checkpoint saved at: 35_acuity_predictions_all_info.csv\n",
      "Processing batch 6/199, records 100-120\n"
     ]
    },
    {
     "name": "stderr",
     "output_type": "stream",
     "text": [
      "100%|██████████| 20/20 [00:11<00:00,  1.78it/s]\n"
     ]
    },
    {
     "name": "stdout",
     "output_type": "stream",
     "text": [
      "Progress: 120/3977 records (3.0%)\n",
      "Speed: 1.28 records/second\n",
      "Est. time remaining: 50.4 minutes\n",
      "Checkpoint saved at: 35_acuity_predictions_all_info.csv\n",
      "Processing batch 7/199, records 120-140\n"
     ]
    },
    {
     "name": "stderr",
     "output_type": "stream",
     "text": [
      "100%|██████████| 20/20 [00:13<00:00,  1.48it/s]\n"
     ]
    },
    {
     "name": "stdout",
     "output_type": "stream",
     "text": [
      "Progress: 140/3977 records (3.5%)\n",
      "Speed: 1.28 records/second\n",
      "Est. time remaining: 50.1 minutes\n",
      "Checkpoint saved at: 35_acuity_predictions_all_info.csv\n",
      "Processing batch 8/199, records 140-160\n"
     ]
    },
    {
     "name": "stderr",
     "output_type": "stream",
     "text": [
      "100%|██████████| 20/20 [00:13<00:00,  1.48it/s]\n"
     ]
    },
    {
     "name": "stdout",
     "output_type": "stream",
     "text": [
      "Progress: 160/3977 records (4.0%)\n",
      "Speed: 1.27 records/second\n",
      "Est. time remaining: 49.9 minutes\n",
      "Checkpoint saved at: 35_acuity_predictions_all_info.csv\n",
      "Processing batch 9/199, records 160-180\n"
     ]
    },
    {
     "name": "stderr",
     "output_type": "stream",
     "text": [
      "100%|██████████| 20/20 [00:13<00:00,  1.46it/s]\n"
     ]
    },
    {
     "name": "stdout",
     "output_type": "stream",
     "text": [
      "Progress: 180/3977 records (4.5%)\n",
      "Speed: 1.27 records/second\n",
      "Est. time remaining: 49.7 minutes\n",
      "Checkpoint saved at: 35_acuity_predictions_all_info.csv\n",
      "Processing batch 10/199, records 180-200\n"
     ]
    },
    {
     "name": "stderr",
     "output_type": "stream",
     "text": [
      "100%|██████████| 20/20 [00:12<00:00,  1.62it/s]\n"
     ]
    },
    {
     "name": "stdout",
     "output_type": "stream",
     "text": [
      "Progress: 200/3977 records (5.0%)\n",
      "Speed: 1.28 records/second\n",
      "Est. time remaining: 49.1 minutes\n",
      "Checkpoint saved at: 35_acuity_predictions_all_info.csv\n",
      "Processing batch 11/199, records 200-220\n"
     ]
    },
    {
     "name": "stderr",
     "output_type": "stream",
     "text": [
      "100%|██████████| 20/20 [00:13<00:00,  1.52it/s]\n"
     ]
    },
    {
     "name": "stdout",
     "output_type": "stream",
     "text": [
      "Progress: 220/3977 records (5.5%)\n",
      "Speed: 1.28 records/second\n",
      "Est. time remaining: 48.8 minutes\n",
      "Checkpoint saved at: 35_acuity_predictions_all_info.csv\n",
      "Processing batch 12/199, records 220-240\n"
     ]
    },
    {
     "name": "stderr",
     "output_type": "stream",
     "text": [
      "100%|██████████| 20/20 [00:12<00:00,  1.66it/s]\n"
     ]
    },
    {
     "name": "stdout",
     "output_type": "stream",
     "text": [
      "Progress: 240/3977 records (6.0%)\n",
      "Speed: 1.29 records/second\n",
      "Est. time remaining: 48.3 minutes\n",
      "Checkpoint saved at: 35_acuity_predictions_all_info.csv\n",
      "Processing batch 13/199, records 240-260\n"
     ]
    },
    {
     "name": "stderr",
     "output_type": "stream",
     "text": [
      "100%|██████████| 20/20 [00:13<00:00,  1.49it/s]\n"
     ]
    },
    {
     "name": "stdout",
     "output_type": "stream",
     "text": [
      "Progress: 260/3977 records (6.5%)\n",
      "Speed: 1.29 records/second\n",
      "Est. time remaining: 48.1 minutes\n",
      "Checkpoint saved at: 35_acuity_predictions_all_info.csv\n",
      "Processing batch 14/199, records 260-280\n"
     ]
    },
    {
     "name": "stderr",
     "output_type": "stream",
     "text": [
      "100%|██████████| 20/20 [00:15<00:00,  1.31it/s]\n"
     ]
    },
    {
     "name": "stdout",
     "output_type": "stream",
     "text": [
      "Progress: 280/3977 records (7.0%)\n",
      "Speed: 1.28 records/second\n",
      "Est. time remaining: 48.3 minutes\n",
      "Checkpoint saved at: 35_acuity_predictions_all_info.csv\n",
      "Processing batch 15/199, records 280-300\n"
     ]
    },
    {
     "name": "stderr",
     "output_type": "stream",
     "text": [
      "100%|██████████| 20/20 [00:12<00:00,  1.60it/s]\n"
     ]
    },
    {
     "name": "stdout",
     "output_type": "stream",
     "text": [
      "Progress: 300/3977 records (7.5%)\n",
      "Speed: 1.28 records/second\n",
      "Est. time remaining: 47.9 minutes\n",
      "Checkpoint saved at: 35_acuity_predictions_all_info.csv\n",
      "Processing batch 16/199, records 300-320\n"
     ]
    },
    {
     "name": "stderr",
     "output_type": "stream",
     "text": [
      "100%|██████████| 20/20 [00:12<00:00,  1.64it/s]\n"
     ]
    },
    {
     "name": "stdout",
     "output_type": "stream",
     "text": [
      "Progress: 320/3977 records (8.0%)\n",
      "Speed: 1.28 records/second\n",
      "Est. time remaining: 47.4 minutes\n",
      "Checkpoint saved at: 35_acuity_predictions_all_info.csv\n",
      "Processing batch 17/199, records 320-340\n"
     ]
    },
    {
     "name": "stderr",
     "output_type": "stream",
     "text": [
      "100%|██████████| 20/20 [00:11<00:00,  1.74it/s]\n"
     ]
    },
    {
     "name": "stdout",
     "output_type": "stream",
     "text": [
      "Progress: 340/3977 records (8.5%)\n",
      "Speed: 1.29 records/second\n",
      "Est. time remaining: 46.9 minutes\n",
      "Checkpoint saved at: 35_acuity_predictions_all_info.csv\n",
      "Processing batch 18/199, records 340-360\n"
     ]
    },
    {
     "name": "stderr",
     "output_type": "stream",
     "text": [
      "100%|██████████| 20/20 [00:12<00:00,  1.55it/s]\n"
     ]
    },
    {
     "name": "stdout",
     "output_type": "stream",
     "text": [
      "Progress: 360/3977 records (9.1%)\n",
      "Speed: 1.29 records/second\n",
      "Est. time remaining: 46.6 minutes\n",
      "Checkpoint saved at: 35_acuity_predictions_all_info.csv\n",
      "Processing batch 19/199, records 360-380\n"
     ]
    },
    {
     "name": "stderr",
     "output_type": "stream",
     "text": [
      "100%|██████████| 20/20 [00:11<00:00,  1.72it/s]\n"
     ]
    },
    {
     "name": "stdout",
     "output_type": "stream",
     "text": [
      "Progress: 380/3977 records (9.6%)\n",
      "Speed: 1.30 records/second\n",
      "Est. time remaining: 46.2 minutes\n",
      "Checkpoint saved at: 35_acuity_predictions_all_info.csv\n",
      "Processing batch 20/199, records 380-400\n"
     ]
    },
    {
     "name": "stderr",
     "output_type": "stream",
     "text": [
      "100%|██████████| 20/20 [00:12<00:00,  1.64it/s]\n"
     ]
    },
    {
     "name": "stdout",
     "output_type": "stream",
     "text": [
      "Progress: 400/3977 records (10.1%)\n",
      "Speed: 1.30 records/second\n",
      "Est. time remaining: 45.8 minutes\n",
      "Checkpoint saved at: 35_acuity_predictions_all_info.csv\n",
      "Processing batch 21/199, records 400-420\n"
     ]
    },
    {
     "name": "stderr",
     "output_type": "stream",
     "text": [
      "100%|██████████| 20/20 [00:17<00:00,  1.17it/s]\n"
     ]
    },
    {
     "name": "stdout",
     "output_type": "stream",
     "text": [
      "Progress: 420/3977 records (10.6%)\n",
      "Speed: 1.28 records/second\n",
      "Est. time remaining: 46.2 minutes\n",
      "Checkpoint saved at: 35_acuity_predictions_all_info.csv\n",
      "Processing batch 22/199, records 420-440\n"
     ]
    },
    {
     "name": "stderr",
     "output_type": "stream",
     "text": [
      "100%|██████████| 20/20 [00:15<00:00,  1.29it/s]\n"
     ]
    },
    {
     "name": "stdout",
     "output_type": "stream",
     "text": [
      "Progress: 440/3977 records (11.1%)\n",
      "Speed: 1.28 records/second\n",
      "Est. time remaining: 46.2 minutes\n",
      "Checkpoint saved at: 35_acuity_predictions_all_info.csv\n",
      "Processing batch 23/199, records 440-460\n"
     ]
    },
    {
     "name": "stderr",
     "output_type": "stream",
     "text": [
      "100%|██████████| 20/20 [00:13<00:00,  1.49it/s]\n"
     ]
    },
    {
     "name": "stdout",
     "output_type": "stream",
     "text": [
      "Progress: 460/3977 records (11.6%)\n",
      "Speed: 1.27 records/second\n",
      "Est. time remaining: 46.0 minutes\n",
      "Checkpoint saved at: 35_acuity_predictions_all_info.csv\n",
      "Processing batch 24/199, records 460-480\n"
     ]
    },
    {
     "name": "stderr",
     "output_type": "stream",
     "text": [
      "100%|██████████| 20/20 [00:12<00:00,  1.64it/s]\n"
     ]
    },
    {
     "name": "stdout",
     "output_type": "stream",
     "text": [
      "Progress: 480/3977 records (12.1%)\n",
      "Speed: 1.28 records/second\n",
      "Est. time remaining: 45.7 minutes\n",
      "Checkpoint saved at: 35_acuity_predictions_all_info.csv\n",
      "Processing batch 25/199, records 480-500\n"
     ]
    },
    {
     "name": "stderr",
     "output_type": "stream",
     "text": [
      "100%|██████████| 20/20 [00:18<00:00,  1.07it/s]\n"
     ]
    },
    {
     "name": "stdout",
     "output_type": "stream",
     "text": [
      "Progress: 500/3977 records (12.6%)\n",
      "Speed: 1.26 records/second\n",
      "Est. time remaining: 46.1 minutes\n",
      "Checkpoint saved at: 35_acuity_predictions_all_info.csv\n",
      "Processing batch 26/199, records 500-520\n"
     ]
    },
    {
     "name": "stderr",
     "output_type": "stream",
     "text": [
      "100%|██████████| 20/20 [00:16<00:00,  1.24it/s]\n"
     ]
    },
    {
     "name": "stdout",
     "output_type": "stream",
     "text": [
      "Progress: 520/3977 records (13.1%)\n",
      "Speed: 1.25 records/second\n",
      "Est. time remaining: 46.1 minutes\n",
      "Checkpoint saved at: 35_acuity_predictions_all_info.csv\n",
      "Processing batch 27/199, records 520-540\n"
     ]
    },
    {
     "name": "stderr",
     "output_type": "stream",
     "text": [
      "100%|██████████| 20/20 [00:11<00:00,  1.72it/s]\n"
     ]
    },
    {
     "name": "stdout",
     "output_type": "stream",
     "text": [
      "Progress: 540/3977 records (13.6%)\n",
      "Speed: 1.25 records/second\n",
      "Est. time remaining: 45.7 minutes\n",
      "Checkpoint saved at: 35_acuity_predictions_all_info.csv\n",
      "Processing batch 28/199, records 540-560\n"
     ]
    },
    {
     "name": "stderr",
     "output_type": "stream",
     "text": [
      "100%|██████████| 20/20 [00:11<00:00,  1.70it/s]\n"
     ]
    },
    {
     "name": "stdout",
     "output_type": "stream",
     "text": [
      "Progress: 560/3977 records (14.1%)\n",
      "Speed: 1.26 records/second\n",
      "Est. time remaining: 45.3 minutes\n",
      "Checkpoint saved at: 35_acuity_predictions_all_info.csv\n",
      "Processing batch 29/199, records 560-580\n"
     ]
    },
    {
     "name": "stderr",
     "output_type": "stream",
     "text": [
      "100%|██████████| 20/20 [00:11<00:00,  1.77it/s]\n"
     ]
    },
    {
     "name": "stdout",
     "output_type": "stream",
     "text": [
      "Progress: 580/3977 records (14.6%)\n",
      "Speed: 1.26 records/second\n",
      "Est. time remaining: 44.8 minutes\n",
      "Checkpoint saved at: 35_acuity_predictions_all_info.csv\n",
      "Processing batch 30/199, records 580-600\n"
     ]
    },
    {
     "name": "stderr",
     "output_type": "stream",
     "text": [
      "100%|██████████| 20/20 [00:17<00:00,  1.17it/s]\n"
     ]
    },
    {
     "name": "stdout",
     "output_type": "stream",
     "text": [
      "Progress: 600/3977 records (15.1%)\n",
      "Speed: 1.25 records/second\n",
      "Est. time remaining: 44.9 minutes\n",
      "Checkpoint saved at: 35_acuity_predictions_all_info.csv\n",
      "Processing batch 31/199, records 600-620\n"
     ]
    },
    {
     "name": "stderr",
     "output_type": "stream",
     "text": [
      "100%|██████████| 20/20 [00:14<00:00,  1.35it/s]\n"
     ]
    },
    {
     "name": "stdout",
     "output_type": "stream",
     "text": [
      "Progress: 620/3977 records (15.6%)\n",
      "Speed: 1.25 records/second\n",
      "Est. time remaining: 44.8 minutes\n",
      "Checkpoint saved at: 35_acuity_predictions_all_info.csv\n",
      "Processing batch 32/199, records 620-640\n"
     ]
    },
    {
     "name": "stderr",
     "output_type": "stream",
     "text": [
      "100%|██████████| 20/20 [00:11<00:00,  1.68it/s]\n"
     ]
    },
    {
     "name": "stdout",
     "output_type": "stream",
     "text": [
      "Progress: 640/3977 records (16.1%)\n",
      "Speed: 1.25 records/second\n",
      "Est. time remaining: 44.5 minutes\n",
      "Checkpoint saved at: 35_acuity_predictions_all_info.csv\n",
      "Processing batch 33/199, records 640-660\n"
     ]
    },
    {
     "name": "stderr",
     "output_type": "stream",
     "text": [
      "100%|██████████| 20/20 [00:13<00:00,  1.53it/s]\n"
     ]
    },
    {
     "name": "stdout",
     "output_type": "stream",
     "text": [
      "Progress: 660/3977 records (16.6%)\n",
      "Speed: 1.25 records/second\n",
      "Est. time remaining: 44.2 minutes\n",
      "Checkpoint saved at: 35_acuity_predictions_all_info.csv\n",
      "Processing batch 34/199, records 660-680\n"
     ]
    },
    {
     "name": "stderr",
     "output_type": "stream",
     "text": [
      "100%|██████████| 20/20 [00:12<00:00,  1.58it/s]\n"
     ]
    },
    {
     "name": "stdout",
     "output_type": "stream",
     "text": [
      "Progress: 680/3977 records (17.1%)\n",
      "Speed: 1.25 records/second\n",
      "Est. time remaining: 43.9 minutes\n",
      "Checkpoint saved at: 35_acuity_predictions_all_info.csv\n",
      "Processing batch 35/199, records 680-700\n"
     ]
    },
    {
     "name": "stderr",
     "output_type": "stream",
     "text": [
      "100%|██████████| 20/20 [00:13<00:00,  1.48it/s]\n"
     ]
    },
    {
     "name": "stdout",
     "output_type": "stream",
     "text": [
      "Progress: 700/3977 records (17.6%)\n",
      "Speed: 1.25 records/second\n",
      "Est. time remaining: 43.6 minutes\n",
      "Checkpoint saved at: 35_acuity_predictions_all_info.csv\n",
      "Processing batch 36/199, records 700-720\n"
     ]
    },
    {
     "name": "stderr",
     "output_type": "stream",
     "text": [
      "100%|██████████| 20/20 [00:14<00:00,  1.36it/s]\n"
     ]
    },
    {
     "name": "stdout",
     "output_type": "stream",
     "text": [
      "Progress: 720/3977 records (18.1%)\n",
      "Speed: 1.25 records/second\n",
      "Est. time remaining: 43.5 minutes\n",
      "Checkpoint saved at: 35_acuity_predictions_all_info.csv\n",
      "Processing batch 37/199, records 720-740\n"
     ]
    },
    {
     "name": "stderr",
     "output_type": "stream",
     "text": [
      "100%|██████████| 20/20 [00:12<00:00,  1.63it/s]\n"
     ]
    },
    {
     "name": "stdout",
     "output_type": "stream",
     "text": [
      "Progress: 740/3977 records (18.6%)\n",
      "Speed: 1.25 records/second\n",
      "Est. time remaining: 43.2 minutes\n",
      "Checkpoint saved at: 35_acuity_predictions_all_info.csv\n",
      "Processing batch 38/199, records 740-760\n"
     ]
    },
    {
     "name": "stderr",
     "output_type": "stream",
     "text": [
      "100%|██████████| 20/20 [00:13<00:00,  1.52it/s]\n"
     ]
    },
    {
     "name": "stdout",
     "output_type": "stream",
     "text": [
      "Progress: 760/3977 records (19.1%)\n",
      "Speed: 1.25 records/second\n",
      "Est. time remaining: 42.9 minutes\n",
      "Checkpoint saved at: 35_acuity_predictions_all_info.csv\n",
      "Processing batch 39/199, records 760-780\n"
     ]
    },
    {
     "name": "stderr",
     "output_type": "stream",
     "text": [
      "100%|██████████| 20/20 [00:12<00:00,  1.56it/s]\n"
     ]
    },
    {
     "name": "stdout",
     "output_type": "stream",
     "text": [
      "Progress: 780/3977 records (19.6%)\n",
      "Speed: 1.25 records/second\n",
      "Est. time remaining: 42.6 minutes\n",
      "Checkpoint saved at: 35_acuity_predictions_all_info.csv\n",
      "Processing batch 40/199, records 780-800\n"
     ]
    },
    {
     "name": "stderr",
     "output_type": "stream",
     "text": [
      "100%|██████████| 20/20 [00:11<00:00,  1.71it/s]\n"
     ]
    },
    {
     "name": "stdout",
     "output_type": "stream",
     "text": [
      "Progress: 800/3977 records (20.1%)\n",
      "Speed: 1.25 records/second\n",
      "Est. time remaining: 42.3 minutes\n",
      "Checkpoint saved at: 35_acuity_predictions_all_info.csv\n",
      "Processing batch 41/199, records 800-820\n"
     ]
    },
    {
     "name": "stderr",
     "output_type": "stream",
     "text": [
      "100%|██████████| 20/20 [00:11<00:00,  1.76it/s]\n"
     ]
    },
    {
     "name": "stdout",
     "output_type": "stream",
     "text": [
      "Progress: 820/3977 records (20.6%)\n",
      "Speed: 1.25 records/second\n",
      "Est. time remaining: 41.9 minutes\n",
      "Checkpoint saved at: 35_acuity_predictions_all_info.csv\n",
      "Processing batch 42/199, records 820-840\n"
     ]
    },
    {
     "name": "stderr",
     "output_type": "stream",
     "text": [
      "100%|██████████| 20/20 [00:13<00:00,  1.45it/s]\n"
     ]
    },
    {
     "name": "stdout",
     "output_type": "stream",
     "text": [
      "Progress: 840/3977 records (21.1%)\n",
      "Speed: 1.25 records/second\n",
      "Est. time remaining: 41.7 minutes\n",
      "Checkpoint saved at: 35_acuity_predictions_all_info.csv\n",
      "Processing batch 43/199, records 840-860\n"
     ]
    },
    {
     "name": "stderr",
     "output_type": "stream",
     "text": [
      "100%|██████████| 20/20 [00:12<00:00,  1.56it/s]\n"
     ]
    },
    {
     "name": "stdout",
     "output_type": "stream",
     "text": [
      "Progress: 860/3977 records (21.6%)\n",
      "Speed: 1.25 records/second\n",
      "Est. time remaining: 41.5 minutes\n",
      "Checkpoint saved at: 35_acuity_predictions_all_info.csv\n",
      "Processing batch 44/199, records 860-880\n"
     ]
    },
    {
     "name": "stderr",
     "output_type": "stream",
     "text": [
      "100%|██████████| 20/20 [00:12<00:00,  1.66it/s]\n"
     ]
    },
    {
     "name": "stdout",
     "output_type": "stream",
     "text": [
      "Progress: 880/3977 records (22.1%)\n",
      "Speed: 1.25 records/second\n",
      "Est. time remaining: 41.2 minutes\n",
      "Checkpoint saved at: 35_acuity_predictions_all_info.csv\n",
      "Processing batch 45/199, records 880-900\n"
     ]
    },
    {
     "name": "stderr",
     "output_type": "stream",
     "text": [
      "100%|██████████| 20/20 [00:46<00:00,  2.33s/it]\n"
     ]
    },
    {
     "name": "stdout",
     "output_type": "stream",
     "text": [
      "Progress: 900/3977 records (22.6%)\n",
      "Speed: 1.20 records/second\n",
      "Est. time remaining: 42.8 minutes\n",
      "Checkpoint saved at: 35_acuity_predictions_all_info.csv\n",
      "Processing batch 46/199, records 900-920\n"
     ]
    },
    {
     "name": "stderr",
     "output_type": "stream",
     "text": [
      "100%|██████████| 20/20 [00:13<00:00,  1.53it/s]\n"
     ]
    },
    {
     "name": "stdout",
     "output_type": "stream",
     "text": [
      "Progress: 920/3977 records (23.1%)\n",
      "Speed: 1.20 records/second\n",
      "Est. time remaining: 42.5 minutes\n",
      "Checkpoint saved at: 35_acuity_predictions_all_info.csv\n",
      "Processing batch 47/199, records 920-940\n"
     ]
    },
    {
     "name": "stderr",
     "output_type": "stream",
     "text": [
      "100%|██████████| 20/20 [00:14<00:00,  1.35it/s]\n"
     ]
    },
    {
     "name": "stdout",
     "output_type": "stream",
     "text": [
      "Progress: 940/3977 records (23.6%)\n",
      "Speed: 1.20 records/second\n",
      "Est. time remaining: 42.3 minutes\n",
      "Checkpoint saved at: 35_acuity_predictions_all_info.csv\n",
      "Processing batch 48/199, records 940-960\n"
     ]
    },
    {
     "name": "stderr",
     "output_type": "stream",
     "text": [
      "100%|██████████| 20/20 [00:15<00:00,  1.31it/s]\n"
     ]
    },
    {
     "name": "stdout",
     "output_type": "stream",
     "text": [
      "Progress: 960/3977 records (24.1%)\n",
      "Speed: 1.19 records/second\n",
      "Est. time remaining: 42.1 minutes\n",
      "Checkpoint saved at: 35_acuity_predictions_all_info.csv\n",
      "Processing batch 49/199, records 960-980\n"
     ]
    },
    {
     "name": "stderr",
     "output_type": "stream",
     "text": [
      "100%|██████████| 20/20 [00:13<00:00,  1.48it/s]\n"
     ]
    },
    {
     "name": "stdout",
     "output_type": "stream",
     "text": [
      "Progress: 980/3977 records (24.6%)\n",
      "Speed: 1.19 records/second\n",
      "Est. time remaining: 41.9 minutes\n",
      "Checkpoint saved at: 35_acuity_predictions_all_info.csv\n",
      "Processing batch 50/199, records 980-1000\n"
     ]
    },
    {
     "name": "stderr",
     "output_type": "stream",
     "text": [
      "100%|██████████| 20/20 [00:12<00:00,  1.65it/s]\n"
     ]
    },
    {
     "name": "stdout",
     "output_type": "stream",
     "text": [
      "Progress: 1000/3977 records (25.1%)\n",
      "Speed: 1.19 records/second\n",
      "Est. time remaining: 41.5 minutes\n",
      "Checkpoint saved at: 35_acuity_predictions_all_info.csv\n",
      "Processing batch 51/199, records 1000-1020\n"
     ]
    },
    {
     "name": "stderr",
     "output_type": "stream",
     "text": [
      "100%|██████████| 20/20 [00:11<00:00,  1.73it/s]\n"
     ]
    },
    {
     "name": "stdout",
     "output_type": "stream",
     "text": [
      "Progress: 1020/3977 records (25.6%)\n",
      "Speed: 1.20 records/second\n",
      "Est. time remaining: 41.2 minutes\n",
      "Checkpoint saved at: 35_acuity_predictions_all_info.csv\n",
      "Processing batch 52/199, records 1020-1040\n"
     ]
    },
    {
     "name": "stderr",
     "output_type": "stream",
     "text": [
      "100%|██████████| 20/20 [00:21<00:00,  1.08s/it]\n"
     ]
    },
    {
     "name": "stdout",
     "output_type": "stream",
     "text": [
      "Progress: 1040/3977 records (26.2%)\n",
      "Speed: 1.19 records/second\n",
      "Est. time remaining: 41.3 minutes\n",
      "Checkpoint saved at: 35_acuity_predictions_all_info.csv\n",
      "Processing batch 53/199, records 1040-1060\n"
     ]
    },
    {
     "name": "stderr",
     "output_type": "stream",
     "text": [
      "100%|██████████| 20/20 [00:12<00:00,  1.56it/s]\n"
     ]
    },
    {
     "name": "stdout",
     "output_type": "stream",
     "text": [
      "Progress: 1060/3977 records (26.7%)\n",
      "Speed: 1.18 records/second\n",
      "Est. time remaining: 41.0 minutes\n",
      "Checkpoint saved at: 35_acuity_predictions_all_info.csv\n",
      "Processing batch 54/199, records 1060-1080\n"
     ]
    },
    {
     "name": "stderr",
     "output_type": "stream",
     "text": [
      "100%|██████████| 20/20 [00:17<00:00,  1.13it/s]\n"
     ]
    },
    {
     "name": "stdout",
     "output_type": "stream",
     "text": [
      "Progress: 1080/3977 records (27.2%)\n",
      "Speed: 1.18 records/second\n",
      "Est. time remaining: 41.0 minutes\n",
      "Checkpoint saved at: 35_acuity_predictions_all_info.csv\n",
      "Processing batch 55/199, records 1080-1100\n"
     ]
    },
    {
     "name": "stderr",
     "output_type": "stream",
     "text": [
      "100%|██████████| 20/20 [00:16<00:00,  1.21it/s]\n"
     ]
    },
    {
     "name": "stdout",
     "output_type": "stream",
     "text": [
      "Progress: 1100/3977 records (27.7%)\n",
      "Speed: 1.17 records/second\n",
      "Est. time remaining: 40.8 minutes\n",
      "Checkpoint saved at: 35_acuity_predictions_all_info.csv\n",
      "Processing batch 56/199, records 1100-1120\n"
     ]
    },
    {
     "name": "stderr",
     "output_type": "stream",
     "text": [
      "100%|██████████| 20/20 [00:12<00:00,  1.60it/s]\n"
     ]
    },
    {
     "name": "stdout",
     "output_type": "stream",
     "text": [
      "Progress: 1120/3977 records (28.2%)\n",
      "Speed: 1.18 records/second\n",
      "Est. time remaining: 40.5 minutes\n",
      "Checkpoint saved at: 35_acuity_predictions_all_info.csv\n",
      "Processing batch 57/199, records 1120-1140\n"
     ]
    },
    {
     "name": "stderr",
     "output_type": "stream",
     "text": [
      "100%|██████████| 20/20 [01:26<00:00,  4.32s/it]\n"
     ]
    },
    {
     "name": "stdout",
     "output_type": "stream",
     "text": [
      "Progress: 1140/3977 records (28.7%)\n",
      "Speed: 1.09 records/second\n",
      "Est. time remaining: 43.3 minutes\n",
      "Checkpoint saved at: 35_acuity_predictions_all_info.csv\n",
      "Processing batch 58/199, records 1140-1160\n"
     ]
    },
    {
     "name": "stderr",
     "output_type": "stream",
     "text": [
      "100%|██████████| 20/20 [00:17<00:00,  1.12it/s]\n"
     ]
    },
    {
     "name": "stdout",
     "output_type": "stream",
     "text": [
      "Progress: 1160/3977 records (29.2%)\n",
      "Speed: 1.09 records/second\n",
      "Est. time remaining: 43.1 minutes\n",
      "Checkpoint saved at: 35_acuity_predictions_all_info.csv\n",
      "Processing batch 59/199, records 1160-1180\n"
     ]
    },
    {
     "name": "stderr",
     "output_type": "stream",
     "text": [
      "100%|██████████| 20/20 [00:13<00:00,  1.51it/s]\n"
     ]
    },
    {
     "name": "stdout",
     "output_type": "stream",
     "text": [
      "Progress: 1180/3977 records (29.7%)\n",
      "Speed: 1.09 records/second\n",
      "Est. time remaining: 42.7 minutes\n",
      "Checkpoint saved at: 35_acuity_predictions_all_info.csv\n",
      "Processing batch 60/199, records 1180-1200\n"
     ]
    },
    {
     "name": "stderr",
     "output_type": "stream",
     "text": [
      "100%|██████████| 20/20 [00:12<00:00,  1.61it/s]\n"
     ]
    },
    {
     "name": "stdout",
     "output_type": "stream",
     "text": [
      "Progress: 1200/3977 records (30.2%)\n",
      "Speed: 1.09 records/second\n",
      "Est. time remaining: 42.5 minutes\n",
      "Checkpoint saved at: 35_acuity_predictions_all_info.csv\n",
      "Processing batch 61/199, records 1200-1220\n"
     ]
    },
    {
     "name": "stderr",
     "output_type": "stream",
     "text": [
      "100%|██████████| 20/20 [00:40<00:00,  2.02s/it]\n"
     ]
    },
    {
     "name": "stdout",
     "output_type": "stream",
     "text": [
      "Progress: 1220/3977 records (30.7%)\n",
      "Speed: 1.06 records/second\n",
      "Est. time remaining: 43.2 minutes\n",
      "Checkpoint saved at: 35_acuity_predictions_all_info.csv\n",
      "Processing batch 62/199, records 1220-1240\n"
     ]
    },
    {
     "name": "stderr",
     "output_type": "stream",
     "text": [
      "100%|██████████| 20/20 [00:13<00:00,  1.51it/s]\n"
     ]
    },
    {
     "name": "stdout",
     "output_type": "stream",
     "text": [
      "Progress: 1240/3977 records (31.2%)\n",
      "Speed: 1.07 records/second\n",
      "Est. time remaining: 42.8 minutes\n",
      "Checkpoint saved at: 35_acuity_predictions_all_info.csv\n",
      "Processing batch 63/199, records 1240-1260\n"
     ]
    },
    {
     "name": "stderr",
     "output_type": "stream",
     "text": [
      "100%|██████████| 20/20 [00:12<00:00,  1.55it/s]\n"
     ]
    },
    {
     "name": "stdout",
     "output_type": "stream",
     "text": [
      "Progress: 1260/3977 records (31.7%)\n",
      "Speed: 1.07 records/second\n",
      "Est. time remaining: 42.4 minutes\n",
      "Checkpoint saved at: 35_acuity_predictions_all_info.csv\n",
      "Processing batch 64/199, records 1260-1280\n"
     ]
    },
    {
     "name": "stderr",
     "output_type": "stream",
     "text": [
      "100%|██████████| 20/20 [01:31<00:00,  4.58s/it]\n"
     ]
    },
    {
     "name": "stdout",
     "output_type": "stream",
     "text": [
      "Progress: 1280/3977 records (32.2%)\n",
      "Speed: 1.00 records/second\n",
      "Est. time remaining: 44.8 minutes\n",
      "Checkpoint saved at: 35_acuity_predictions_all_info.csv\n",
      "Processing batch 65/199, records 1280-1300\n"
     ]
    },
    {
     "name": "stderr",
     "output_type": "stream",
     "text": [
      "100%|██████████| 20/20 [00:15<00:00,  1.32it/s]\n"
     ]
    },
    {
     "name": "stdout",
     "output_type": "stream",
     "text": [
      "Progress: 1300/3977 records (32.7%)\n",
      "Speed: 1.00 records/second\n",
      "Est. time remaining: 44.4 minutes\n",
      "Checkpoint saved at: 35_acuity_predictions_all_info.csv\n",
      "Processing batch 66/199, records 1300-1320\n"
     ]
    },
    {
     "name": "stderr",
     "output_type": "stream",
     "text": [
      "100%|██████████| 20/20 [00:13<00:00,  1.50it/s]\n"
     ]
    },
    {
     "name": "stdout",
     "output_type": "stream",
     "text": [
      "Progress: 1320/3977 records (33.2%)\n",
      "Speed: 1.01 records/second\n",
      "Est. time remaining: 44.0 minutes\n",
      "Checkpoint saved at: 35_acuity_predictions_all_info.csv\n",
      "Processing batch 67/199, records 1320-1340\n"
     ]
    },
    {
     "name": "stderr",
     "output_type": "stream",
     "text": [
      "100%|██████████| 20/20 [00:15<00:00,  1.26it/s]\n"
     ]
    },
    {
     "name": "stdout",
     "output_type": "stream",
     "text": [
      "Progress: 1340/3977 records (33.7%)\n",
      "Speed: 1.01 records/second\n",
      "Est. time remaining: 43.7 minutes\n",
      "Checkpoint saved at: 35_acuity_predictions_all_info.csv\n",
      "Processing batch 68/199, records 1340-1360\n"
     ]
    },
    {
     "name": "stderr",
     "output_type": "stream",
     "text": [
      "100%|██████████| 20/20 [00:13<00:00,  1.46it/s]\n"
     ]
    },
    {
     "name": "stdout",
     "output_type": "stream",
     "text": [
      "Progress: 1360/3977 records (34.2%)\n",
      "Speed: 1.01 records/second\n",
      "Est. time remaining: 43.3 minutes\n",
      "Checkpoint saved at: 35_acuity_predictions_all_info.csv\n",
      "Processing batch 69/199, records 1360-1380\n"
     ]
    },
    {
     "name": "stderr",
     "output_type": "stream",
     "text": [
      "100%|██████████| 20/20 [00:12<00:00,  1.60it/s]\n"
     ]
    },
    {
     "name": "stdout",
     "output_type": "stream",
     "text": [
      "Progress: 1380/3977 records (34.7%)\n",
      "Speed: 1.01 records/second\n",
      "Est. time remaining: 42.8 minutes\n",
      "Checkpoint saved at: 35_acuity_predictions_all_info.csv\n",
      "Processing batch 70/199, records 1380-1400\n"
     ]
    },
    {
     "name": "stderr",
     "output_type": "stream",
     "text": [
      "100%|██████████| 20/20 [00:14<00:00,  1.36it/s]\n"
     ]
    },
    {
     "name": "stdout",
     "output_type": "stream",
     "text": [
      "Progress: 1400/3977 records (35.2%)\n",
      "Speed: 1.01 records/second\n",
      "Est. time remaining: 42.5 minutes\n",
      "Checkpoint saved at: 35_acuity_predictions_all_info.csv\n",
      "Processing batch 71/199, records 1400-1420\n"
     ]
    },
    {
     "name": "stderr",
     "output_type": "stream",
     "text": [
      "100%|██████████| 20/20 [00:15<00:00,  1.29it/s]\n"
     ]
    },
    {
     "name": "stdout",
     "output_type": "stream",
     "text": [
      "Progress: 1420/3977 records (35.7%)\n",
      "Speed: 1.01 records/second\n",
      "Est. time remaining: 42.3 minutes\n",
      "Checkpoint saved at: 35_acuity_predictions_all_info.csv\n",
      "Processing batch 72/199, records 1420-1440\n"
     ]
    },
    {
     "name": "stderr",
     "output_type": "stream",
     "text": [
      "100%|██████████| 20/20 [00:17<00:00,  1.12it/s]\n"
     ]
    },
    {
     "name": "stdout",
     "output_type": "stream",
     "text": [
      "Progress: 1440/3977 records (36.2%)\n",
      "Speed: 1.00 records/second\n",
      "Est. time remaining: 42.3 minutes\n",
      "Checkpoint saved at: 35_acuity_predictions_all_info.csv\n",
      "Processing batch 73/199, records 1440-1460\n"
     ]
    },
    {
     "name": "stderr",
     "output_type": "stream",
     "text": [
      "100%|██████████| 20/20 [00:24<00:00,  1.23s/it]\n"
     ]
    },
    {
     "name": "stdout",
     "output_type": "stream",
     "text": [
      "Progress: 1460/3977 records (36.7%)\n",
      "Speed: 0.99 records/second\n",
      "Est. time remaining: 42.2 minutes\n",
      "Checkpoint saved at: 35_acuity_predictions_all_info.csv\n",
      "Processing batch 74/199, records 1460-1480\n"
     ]
    },
    {
     "name": "stderr",
     "output_type": "stream",
     "text": [
      "100%|██████████| 20/20 [00:15<00:00,  1.29it/s]\n"
     ]
    },
    {
     "name": "stdout",
     "output_type": "stream",
     "text": [
      "Progress: 1480/3977 records (37.2%)\n",
      "Speed: 0.99 records/second\n",
      "Est. time remaining: 41.8 minutes\n",
      "Checkpoint saved at: 35_acuity_predictions_all_info.csv\n",
      "Processing batch 75/199, records 1480-1500\n"
     ]
    },
    {
     "name": "stderr",
     "output_type": "stream",
     "text": [
      "100%|██████████| 20/20 [00:12<00:00,  1.60it/s]\n"
     ]
    },
    {
     "name": "stdout",
     "output_type": "stream",
     "text": [
      "Progress: 1500/3977 records (37.7%)\n",
      "Speed: 1.00 records/second\n",
      "Est. time remaining: 41.4 minutes\n",
      "Checkpoint saved at: 35_acuity_predictions_all_info.csv\n",
      "Processing batch 76/199, records 1500-1520\n"
     ]
    },
    {
     "name": "stderr",
     "output_type": "stream",
     "text": [
      "100%|██████████| 20/20 [00:14<00:00,  1.34it/s]\n"
     ]
    },
    {
     "name": "stdout",
     "output_type": "stream",
     "text": [
      "Progress: 1520/3977 records (38.2%)\n",
      "Speed: 1.00 records/second\n",
      "Est. time remaining: 41.0 minutes\n",
      "Checkpoint saved at: 35_acuity_predictions_all_info.csv\n",
      "Processing batch 77/199, records 1520-1540\n"
     ]
    },
    {
     "name": "stderr",
     "output_type": "stream",
     "text": [
      "100%|██████████| 20/20 [00:13<00:00,  1.44it/s]\n"
     ]
    },
    {
     "name": "stdout",
     "output_type": "stream",
     "text": [
      "Progress: 1540/3977 records (38.7%)\n",
      "Speed: 1.00 records/second\n",
      "Est. time remaining: 40.7 minutes\n",
      "Checkpoint saved at: 35_acuity_predictions_all_info.csv\n",
      "Processing batch 78/199, records 1540-1560\n"
     ]
    },
    {
     "name": "stderr",
     "output_type": "stream",
     "text": [
      "100%|██████████| 20/20 [00:14<00:00,  1.35it/s]\n"
     ]
    },
    {
     "name": "stdout",
     "output_type": "stream",
     "text": [
      "Progress: 1560/3977 records (39.2%)\n",
      "Speed: 1.00 records/second\n",
      "Est. time remaining: 40.3 minutes\n",
      "Checkpoint saved at: 35_acuity_predictions_all_info.csv\n",
      "Processing batch 79/199, records 1560-1580\n"
     ]
    },
    {
     "name": "stderr",
     "output_type": "stream",
     "text": [
      "100%|██████████| 20/20 [00:12<00:00,  1.63it/s]\n"
     ]
    },
    {
     "name": "stdout",
     "output_type": "stream",
     "text": [
      "Progress: 1580/3977 records (39.7%)\n",
      "Speed: 1.00 records/second\n",
      "Est. time remaining: 39.9 minutes\n",
      "Checkpoint saved at: 35_acuity_predictions_all_info.csv\n",
      "Processing batch 80/199, records 1580-1600\n"
     ]
    },
    {
     "name": "stderr",
     "output_type": "stream",
     "text": [
      "100%|██████████| 20/20 [00:13<00:00,  1.46it/s]\n"
     ]
    },
    {
     "name": "stdout",
     "output_type": "stream",
     "text": [
      "Progress: 1600/3977 records (40.2%)\n",
      "Speed: 1.00 records/second\n",
      "Est. time remaining: 39.5 minutes\n",
      "Checkpoint saved at: 35_acuity_predictions_all_info.csv\n",
      "Processing batch 81/199, records 1600-1620\n"
     ]
    },
    {
     "name": "stderr",
     "output_type": "stream",
     "text": [
      "100%|██████████| 20/20 [00:16<00:00,  1.20it/s]\n"
     ]
    },
    {
     "name": "stdout",
     "output_type": "stream",
     "text": [
      "Progress: 1620/3977 records (40.7%)\n",
      "Speed: 1.00 records/second\n",
      "Est. time remaining: 39.2 minutes\n",
      "Checkpoint saved at: 35_acuity_predictions_all_info.csv\n",
      "Processing batch 82/199, records 1620-1640\n"
     ]
    },
    {
     "name": "stderr",
     "output_type": "stream",
     "text": [
      "100%|██████████| 20/20 [00:13<00:00,  1.50it/s]\n"
     ]
    },
    {
     "name": "stdout",
     "output_type": "stream",
     "text": [
      "Progress: 1640/3977 records (41.2%)\n",
      "Speed: 1.00 records/second\n",
      "Est. time remaining: 38.8 minutes\n",
      "Checkpoint saved at: 35_acuity_predictions_all_info.csv\n",
      "Processing batch 83/199, records 1640-1660\n"
     ]
    },
    {
     "name": "stderr",
     "output_type": "stream",
     "text": [
      "100%|██████████| 20/20 [00:13<00:00,  1.52it/s]\n"
     ]
    },
    {
     "name": "stdout",
     "output_type": "stream",
     "text": [
      "Progress: 1660/3977 records (41.7%)\n",
      "Speed: 1.01 records/second\n",
      "Est. time remaining: 38.4 minutes\n",
      "Checkpoint saved at: 35_acuity_predictions_all_info.csv\n",
      "Processing batch 84/199, records 1660-1680\n"
     ]
    },
    {
     "name": "stderr",
     "output_type": "stream",
     "text": [
      "100%|██████████| 20/20 [00:13<00:00,  1.47it/s]\n"
     ]
    },
    {
     "name": "stdout",
     "output_type": "stream",
     "text": [
      "Progress: 1680/3977 records (42.2%)\n",
      "Speed: 1.01 records/second\n",
      "Est. time remaining: 38.0 minutes\n",
      "Checkpoint saved at: 35_acuity_predictions_all_info.csv\n",
      "Processing batch 85/199, records 1680-1700\n"
     ]
    },
    {
     "name": "stderr",
     "output_type": "stream",
     "text": [
      "100%|██████████| 20/20 [00:14<00:00,  1.36it/s]\n"
     ]
    },
    {
     "name": "stdout",
     "output_type": "stream",
     "text": [
      "Progress: 1700/3977 records (42.7%)\n",
      "Speed: 1.01 records/second\n",
      "Est. time remaining: 37.7 minutes\n",
      "Checkpoint saved at: 35_acuity_predictions_all_info.csv\n",
      "Processing batch 86/199, records 1700-1720\n"
     ]
    },
    {
     "name": "stderr",
     "output_type": "stream",
     "text": [
      "100%|██████████| 20/20 [00:11<00:00,  1.75it/s]\n"
     ]
    },
    {
     "name": "stdout",
     "output_type": "stream",
     "text": [
      "Progress: 1720/3977 records (43.2%)\n",
      "Speed: 1.01 records/second\n",
      "Est. time remaining: 37.3 minutes\n",
      "Checkpoint saved at: 35_acuity_predictions_all_info.csv\n",
      "Processing batch 87/199, records 1720-1740\n"
     ]
    },
    {
     "name": "stderr",
     "output_type": "stream",
     "text": [
      "100%|██████████| 20/20 [00:12<00:00,  1.65it/s]\n"
     ]
    },
    {
     "name": "stdout",
     "output_type": "stream",
     "text": [
      "Progress: 1740/3977 records (43.8%)\n",
      "Speed: 1.01 records/second\n",
      "Est. time remaining: 36.9 minutes\n",
      "Checkpoint saved at: 35_acuity_predictions_all_info.csv\n",
      "Processing batch 88/199, records 1740-1760\n"
     ]
    },
    {
     "name": "stderr",
     "output_type": "stream",
     "text": [
      "100%|██████████| 20/20 [00:16<00:00,  1.20it/s]\n"
     ]
    },
    {
     "name": "stdout",
     "output_type": "stream",
     "text": [
      "Progress: 1760/3977 records (44.3%)\n",
      "Speed: 1.01 records/second\n",
      "Est. time remaining: 36.5 minutes\n",
      "Checkpoint saved at: 35_acuity_predictions_all_info.csv\n",
      "Processing batch 89/199, records 1760-1780\n"
     ]
    },
    {
     "name": "stderr",
     "output_type": "stream",
     "text": [
      "100%|██████████| 20/20 [00:11<00:00,  1.70it/s]\n"
     ]
    },
    {
     "name": "stdout",
     "output_type": "stream",
     "text": [
      "Progress: 1780/3977 records (44.8%)\n",
      "Speed: 1.01 records/second\n",
      "Est. time remaining: 36.1 minutes\n",
      "Checkpoint saved at: 35_acuity_predictions_all_info.csv\n",
      "Processing batch 90/199, records 1780-1800\n"
     ]
    },
    {
     "name": "stderr",
     "output_type": "stream",
     "text": [
      "100%|██████████| 20/20 [00:12<00:00,  1.58it/s]\n"
     ]
    },
    {
     "name": "stdout",
     "output_type": "stream",
     "text": [
      "Progress: 1800/3977 records (45.3%)\n",
      "Speed: 1.01 records/second\n",
      "Est. time remaining: 35.8 minutes\n",
      "Checkpoint saved at: 35_acuity_predictions_all_info.csv\n",
      "Processing batch 91/199, records 1800-1820\n"
     ]
    },
    {
     "name": "stderr",
     "output_type": "stream",
     "text": [
      "100%|██████████| 20/20 [00:14<00:00,  1.34it/s]\n"
     ]
    },
    {
     "name": "stdout",
     "output_type": "stream",
     "text": [
      "Progress: 1820/3977 records (45.8%)\n",
      "Speed: 1.01 records/second\n",
      "Est. time remaining: 35.4 minutes\n",
      "Checkpoint saved at: 35_acuity_predictions_all_info.csv\n",
      "Processing batch 92/199, records 1820-1840\n"
     ]
    },
    {
     "name": "stderr",
     "output_type": "stream",
     "text": [
      "100%|██████████| 20/20 [00:12<00:00,  1.59it/s]\n"
     ]
    },
    {
     "name": "stdout",
     "output_type": "stream",
     "text": [
      "Progress: 1840/3977 records (46.3%)\n",
      "Speed: 1.02 records/second\n",
      "Est. time remaining: 35.0 minutes\n",
      "Checkpoint saved at: 35_acuity_predictions_all_info.csv\n",
      "Processing batch 93/199, records 1840-1860\n"
     ]
    },
    {
     "name": "stderr",
     "output_type": "stream",
     "text": [
      "100%|██████████| 20/20 [00:13<00:00,  1.51it/s]\n"
     ]
    },
    {
     "name": "stdout",
     "output_type": "stream",
     "text": [
      "Progress: 1860/3977 records (46.8%)\n",
      "Speed: 1.02 records/second\n",
      "Est. time remaining: 34.7 minutes\n",
      "Checkpoint saved at: 35_acuity_predictions_all_info.csv\n",
      "Processing batch 94/199, records 1860-1880\n"
     ]
    },
    {
     "name": "stderr",
     "output_type": "stream",
     "text": [
      "100%|██████████| 20/20 [00:12<00:00,  1.61it/s]\n"
     ]
    },
    {
     "name": "stdout",
     "output_type": "stream",
     "text": [
      "Progress: 1880/3977 records (47.3%)\n",
      "Speed: 1.02 records/second\n",
      "Est. time remaining: 34.3 minutes\n",
      "Checkpoint saved at: 35_acuity_predictions_all_info.csv\n",
      "Processing batch 95/199, records 1880-1900\n"
     ]
    },
    {
     "name": "stderr",
     "output_type": "stream",
     "text": [
      "100%|██████████| 20/20 [00:12<00:00,  1.64it/s]\n"
     ]
    },
    {
     "name": "stdout",
     "output_type": "stream",
     "text": [
      "Progress: 1900/3977 records (47.8%)\n",
      "Speed: 1.02 records/second\n",
      "Est. time remaining: 33.9 minutes\n",
      "Checkpoint saved at: 35_acuity_predictions_all_info.csv\n",
      "Processing batch 96/199, records 1900-1920\n"
     ]
    },
    {
     "name": "stderr",
     "output_type": "stream",
     "text": [
      "100%|██████████| 20/20 [00:13<00:00,  1.44it/s]\n"
     ]
    },
    {
     "name": "stdout",
     "output_type": "stream",
     "text": [
      "Progress: 1920/3977 records (48.3%)\n",
      "Speed: 1.02 records/second\n",
      "Est. time remaining: 33.6 minutes\n",
      "Checkpoint saved at: 35_acuity_predictions_all_info.csv\n",
      "Processing batch 97/199, records 1920-1940\n"
     ]
    },
    {
     "name": "stderr",
     "output_type": "stream",
     "text": [
      "100%|██████████| 20/20 [00:12<00:00,  1.57it/s]\n"
     ]
    },
    {
     "name": "stdout",
     "output_type": "stream",
     "text": [
      "Progress: 1940/3977 records (48.8%)\n",
      "Speed: 1.02 records/second\n",
      "Est. time remaining: 33.2 minutes\n",
      "Checkpoint saved at: 35_acuity_predictions_all_info.csv\n",
      "Processing batch 98/199, records 1940-1960\n"
     ]
    },
    {
     "name": "stderr",
     "output_type": "stream",
     "text": [
      "100%|██████████| 20/20 [00:18<00:00,  1.08it/s]\n"
     ]
    },
    {
     "name": "stdout",
     "output_type": "stream",
     "text": [
      "Progress: 1960/3977 records (49.3%)\n",
      "Speed: 1.02 records/second\n",
      "Est. time remaining: 32.9 minutes\n",
      "Checkpoint saved at: 35_acuity_predictions_all_info.csv\n",
      "Processing batch 99/199, records 1960-1980\n"
     ]
    },
    {
     "name": "stderr",
     "output_type": "stream",
     "text": [
      "100%|██████████| 20/20 [00:13<00:00,  1.49it/s]\n"
     ]
    },
    {
     "name": "stdout",
     "output_type": "stream",
     "text": [
      "Progress: 1980/3977 records (49.8%)\n",
      "Speed: 1.02 records/second\n",
      "Est. time remaining: 32.6 minutes\n",
      "Checkpoint saved at: 35_acuity_predictions_all_info.csv\n",
      "Processing batch 100/199, records 1980-2000\n"
     ]
    },
    {
     "name": "stderr",
     "output_type": "stream",
     "text": [
      "100%|██████████| 20/20 [00:12<00:00,  1.57it/s]\n"
     ]
    },
    {
     "name": "stdout",
     "output_type": "stream",
     "text": [
      "Progress: 2000/3977 records (50.3%)\n",
      "Speed: 1.02 records/second\n",
      "Est. time remaining: 32.2 minutes\n",
      "Checkpoint saved at: 35_acuity_predictions_all_info.csv\n",
      "Processing batch 101/199, records 2000-2020\n"
     ]
    },
    {
     "name": "stderr",
     "output_type": "stream",
     "text": [
      "100%|██████████| 20/20 [00:12<00:00,  1.60it/s]\n"
     ]
    },
    {
     "name": "stdout",
     "output_type": "stream",
     "text": [
      "Progress: 2020/3977 records (50.8%)\n",
      "Speed: 1.02 records/second\n",
      "Est. time remaining: 31.9 minutes\n",
      "Checkpoint saved at: 35_acuity_predictions_all_info.csv\n",
      "Processing batch 102/199, records 2020-2040\n"
     ]
    },
    {
     "name": "stderr",
     "output_type": "stream",
     "text": [
      "100%|██████████| 20/20 [00:12<00:00,  1.59it/s]\n"
     ]
    },
    {
     "name": "stdout",
     "output_type": "stream",
     "text": [
      "Progress: 2040/3977 records (51.3%)\n",
      "Speed: 1.02 records/second\n",
      "Est. time remaining: 31.5 minutes\n",
      "Checkpoint saved at: 35_acuity_predictions_all_info.csv\n",
      "Processing batch 103/199, records 2040-2060\n"
     ]
    },
    {
     "name": "stderr",
     "output_type": "stream",
     "text": [
      "100%|██████████| 20/20 [00:12<00:00,  1.66it/s]\n"
     ]
    },
    {
     "name": "stdout",
     "output_type": "stream",
     "text": [
      "Progress: 2060/3977 records (51.8%)\n",
      "Speed: 1.03 records/second\n",
      "Est. time remaining: 31.1 minutes\n",
      "Checkpoint saved at: 35_acuity_predictions_all_info.csv\n",
      "Processing batch 104/199, records 2060-2080\n"
     ]
    },
    {
     "name": "stderr",
     "output_type": "stream",
     "text": [
      "100%|██████████| 20/20 [00:12<00:00,  1.64it/s]\n"
     ]
    },
    {
     "name": "stdout",
     "output_type": "stream",
     "text": [
      "Progress: 2080/3977 records (52.3%)\n",
      "Speed: 1.03 records/second\n",
      "Est. time remaining: 30.8 minutes\n",
      "Checkpoint saved at: 35_acuity_predictions_all_info.csv\n",
      "Processing batch 105/199, records 2080-2100\n"
     ]
    },
    {
     "name": "stderr",
     "output_type": "stream",
     "text": [
      "100%|██████████| 20/20 [00:12<00:00,  1.66it/s]\n"
     ]
    },
    {
     "name": "stdout",
     "output_type": "stream",
     "text": [
      "Progress: 2100/3977 records (52.8%)\n",
      "Speed: 1.03 records/second\n",
      "Est. time remaining: 30.4 minutes\n",
      "Checkpoint saved at: 35_acuity_predictions_all_info.csv\n",
      "Processing batch 106/199, records 2100-2120\n"
     ]
    },
    {
     "name": "stderr",
     "output_type": "stream",
     "text": [
      "100%|██████████| 20/20 [00:13<00:00,  1.43it/s]\n"
     ]
    },
    {
     "name": "stdout",
     "output_type": "stream",
     "text": [
      "Progress: 2120/3977 records (53.3%)\n",
      "Speed: 1.03 records/second\n",
      "Est. time remaining: 30.1 minutes\n",
      "Checkpoint saved at: 35_acuity_predictions_all_info.csv\n",
      "Processing batch 107/199, records 2120-2140\n"
     ]
    },
    {
     "name": "stderr",
     "output_type": "stream",
     "text": [
      "100%|██████████| 20/20 [00:11<00:00,  1.69it/s]\n"
     ]
    },
    {
     "name": "stdout",
     "output_type": "stream",
     "text": [
      "Progress: 2140/3977 records (53.8%)\n",
      "Speed: 1.03 records/second\n",
      "Est. time remaining: 29.7 minutes\n",
      "Checkpoint saved at: 35_acuity_predictions_all_info.csv\n",
      "Processing batch 108/199, records 2140-2160\n"
     ]
    },
    {
     "name": "stderr",
     "output_type": "stream",
     "text": [
      "100%|██████████| 20/20 [00:22<00:00,  1.10s/it]\n"
     ]
    },
    {
     "name": "stdout",
     "output_type": "stream",
     "text": [
      "Progress: 2160/3977 records (54.3%)\n",
      "Speed: 1.03 records/second\n",
      "Est. time remaining: 29.5 minutes\n",
      "Checkpoint saved at: 35_acuity_predictions_all_info.csv\n",
      "Processing batch 109/199, records 2160-2180\n"
     ]
    },
    {
     "name": "stderr",
     "output_type": "stream",
     "text": [
      "100%|██████████| 20/20 [00:15<00:00,  1.29it/s]\n"
     ]
    },
    {
     "name": "stdout",
     "output_type": "stream",
     "text": [
      "Progress: 2180/3977 records (54.8%)\n",
      "Speed: 1.03 records/second\n",
      "Est. time remaining: 29.2 minutes\n",
      "Checkpoint saved at: 35_acuity_predictions_all_info.csv\n",
      "Processing batch 110/199, records 2180-2200\n"
     ]
    },
    {
     "name": "stderr",
     "output_type": "stream",
     "text": [
      "100%|██████████| 20/20 [00:12<00:00,  1.56it/s]\n"
     ]
    },
    {
     "name": "stdout",
     "output_type": "stream",
     "text": [
      "Progress: 2200/3977 records (55.3%)\n",
      "Speed: 1.03 records/second\n",
      "Est. time remaining: 28.8 minutes\n",
      "Checkpoint saved at: 35_acuity_predictions_all_info.csv\n",
      "Processing batch 111/199, records 2200-2220\n"
     ]
    },
    {
     "name": "stderr",
     "output_type": "stream",
     "text": [
      "100%|██████████| 20/20 [00:13<00:00,  1.43it/s]\n"
     ]
    },
    {
     "name": "stdout",
     "output_type": "stream",
     "text": [
      "Progress: 2220/3977 records (55.8%)\n",
      "Speed: 1.03 records/second\n",
      "Est. time remaining: 28.5 minutes\n",
      "Checkpoint saved at: 35_acuity_predictions_all_info.csv\n",
      "Processing batch 112/199, records 2220-2240\n"
     ]
    },
    {
     "name": "stderr",
     "output_type": "stream",
     "text": [
      "100%|██████████| 20/20 [00:13<00:00,  1.45it/s]\n"
     ]
    },
    {
     "name": "stdout",
     "output_type": "stream",
     "text": [
      "Progress: 2240/3977 records (56.3%)\n",
      "Speed: 1.03 records/second\n",
      "Est. time remaining: 28.2 minutes\n",
      "Checkpoint saved at: 35_acuity_predictions_all_info.csv\n",
      "Processing batch 113/199, records 2240-2260\n"
     ]
    },
    {
     "name": "stderr",
     "output_type": "stream",
     "text": [
      "100%|██████████| 20/20 [00:12<00:00,  1.61it/s]\n"
     ]
    },
    {
     "name": "stdout",
     "output_type": "stream",
     "text": [
      "Progress: 2260/3977 records (56.8%)\n",
      "Speed: 1.03 records/second\n",
      "Est. time remaining: 27.8 minutes\n",
      "Checkpoint saved at: 35_acuity_predictions_all_info.csv\n",
      "Processing batch 114/199, records 2260-2280\n"
     ]
    },
    {
     "name": "stderr",
     "output_type": "stream",
     "text": [
      "100%|██████████| 20/20 [00:15<00:00,  1.27it/s]\n"
     ]
    },
    {
     "name": "stdout",
     "output_type": "stream",
     "text": [
      "Progress: 2280/3977 records (57.3%)\n",
      "Speed: 1.03 records/second\n",
      "Est. time remaining: 27.5 minutes\n",
      "Checkpoint saved at: 35_acuity_predictions_all_info.csv\n",
      "Processing batch 115/199, records 2280-2300\n"
     ]
    },
    {
     "name": "stderr",
     "output_type": "stream",
     "text": [
      "100%|██████████| 20/20 [00:12<00:00,  1.55it/s]\n"
     ]
    },
    {
     "name": "stdout",
     "output_type": "stream",
     "text": [
      "Progress: 2300/3977 records (57.8%)\n",
      "Speed: 1.03 records/second\n",
      "Est. time remaining: 27.2 minutes\n",
      "Checkpoint saved at: 35_acuity_predictions_all_info.csv\n",
      "Processing batch 116/199, records 2300-2320\n"
     ]
    },
    {
     "name": "stderr",
     "output_type": "stream",
     "text": [
      "100%|██████████| 20/20 [00:15<00:00,  1.29it/s]\n"
     ]
    },
    {
     "name": "stdout",
     "output_type": "stream",
     "text": [
      "Progress: 2320/3977 records (58.3%)\n",
      "Speed: 1.03 records/second\n",
      "Est. time remaining: 26.9 minutes\n",
      "Checkpoint saved at: 35_acuity_predictions_all_info.csv\n",
      "Processing batch 117/199, records 2320-2340\n"
     ]
    },
    {
     "name": "stderr",
     "output_type": "stream",
     "text": [
      "100%|██████████| 20/20 [00:12<00:00,  1.57it/s]\n"
     ]
    },
    {
     "name": "stdout",
     "output_type": "stream",
     "text": [
      "Progress: 2340/3977 records (58.8%)\n",
      "Speed: 1.03 records/second\n",
      "Est. time remaining: 26.5 minutes\n",
      "Checkpoint saved at: 35_acuity_predictions_all_info.csv\n",
      "Processing batch 118/199, records 2340-2360\n"
     ]
    },
    {
     "name": "stderr",
     "output_type": "stream",
     "text": [
      "100%|██████████| 20/20 [00:12<00:00,  1.56it/s]\n"
     ]
    },
    {
     "name": "stdout",
     "output_type": "stream",
     "text": [
      "Progress: 2360/3977 records (59.3%)\n",
      "Speed: 1.03 records/second\n",
      "Est. time remaining: 26.2 minutes\n",
      "Checkpoint saved at: 35_acuity_predictions_all_info.csv\n",
      "Processing batch 119/199, records 2360-2380\n"
     ]
    },
    {
     "name": "stderr",
     "output_type": "stream",
     "text": [
      "100%|██████████| 20/20 [00:15<00:00,  1.31it/s]\n"
     ]
    },
    {
     "name": "stdout",
     "output_type": "stream",
     "text": [
      "Progress: 2380/3977 records (59.8%)\n",
      "Speed: 1.03 records/second\n",
      "Est. time remaining: 25.9 minutes\n",
      "Checkpoint saved at: 35_acuity_predictions_all_info.csv\n",
      "Processing batch 120/199, records 2380-2400\n"
     ]
    },
    {
     "name": "stderr",
     "output_type": "stream",
     "text": [
      "100%|██████████| 20/20 [00:14<00:00,  1.40it/s]\n"
     ]
    },
    {
     "name": "stdout",
     "output_type": "stream",
     "text": [
      "Progress: 2400/3977 records (60.3%)\n",
      "Speed: 1.03 records/second\n",
      "Est. time remaining: 25.5 minutes\n",
      "Checkpoint saved at: 35_acuity_predictions_all_info.csv\n",
      "Processing batch 121/199, records 2400-2420\n"
     ]
    },
    {
     "name": "stderr",
     "output_type": "stream",
     "text": [
      "100%|██████████| 20/20 [00:13<00:00,  1.49it/s]\n"
     ]
    },
    {
     "name": "stdout",
     "output_type": "stream",
     "text": [
      "Progress: 2420/3977 records (60.8%)\n",
      "Speed: 1.03 records/second\n",
      "Est. time remaining: 25.2 minutes\n",
      "Checkpoint saved at: 35_acuity_predictions_all_info.csv\n",
      "Processing batch 122/199, records 2420-2440\n"
     ]
    },
    {
     "name": "stderr",
     "output_type": "stream",
     "text": [
      "100%|██████████| 20/20 [00:15<00:00,  1.27it/s]\n"
     ]
    },
    {
     "name": "stdout",
     "output_type": "stream",
     "text": [
      "Progress: 2440/3977 records (61.4%)\n",
      "Speed: 1.03 records/second\n",
      "Est. time remaining: 24.9 minutes\n",
      "Checkpoint saved at: 35_acuity_predictions_all_info.csv\n",
      "Processing batch 123/199, records 2440-2460\n"
     ]
    },
    {
     "name": "stderr",
     "output_type": "stream",
     "text": [
      "100%|██████████| 20/20 [00:12<00:00,  1.56it/s]\n"
     ]
    },
    {
     "name": "stdout",
     "output_type": "stream",
     "text": [
      "Progress: 2460/3977 records (61.9%)\n",
      "Speed: 1.03 records/second\n",
      "Est. time remaining: 24.6 minutes\n",
      "Checkpoint saved at: 35_acuity_predictions_all_info.csv\n",
      "Processing batch 124/199, records 2460-2480\n"
     ]
    },
    {
     "name": "stderr",
     "output_type": "stream",
     "text": [
      "100%|██████████| 20/20 [00:14<00:00,  1.37it/s]\n"
     ]
    },
    {
     "name": "stdout",
     "output_type": "stream",
     "text": [
      "Progress: 2480/3977 records (62.4%)\n",
      "Speed: 1.03 records/second\n",
      "Est. time remaining: 24.2 minutes\n",
      "Checkpoint saved at: 35_acuity_predictions_all_info.csv\n",
      "Processing batch 125/199, records 2480-2500\n"
     ]
    },
    {
     "name": "stderr",
     "output_type": "stream",
     "text": [
      "100%|██████████| 20/20 [00:12<00:00,  1.56it/s]\n"
     ]
    },
    {
     "name": "stdout",
     "output_type": "stream",
     "text": [
      "Progress: 2500/3977 records (62.9%)\n",
      "Speed: 1.03 records/second\n",
      "Est. time remaining: 23.9 minutes\n",
      "Checkpoint saved at: 35_acuity_predictions_all_info.csv\n",
      "Processing batch 126/199, records 2500-2520\n"
     ]
    },
    {
     "name": "stderr",
     "output_type": "stream",
     "text": [
      "100%|██████████| 20/20 [00:13<00:00,  1.53it/s]\n"
     ]
    },
    {
     "name": "stdout",
     "output_type": "stream",
     "text": [
      "Progress: 2520/3977 records (63.4%)\n",
      "Speed: 1.03 records/second\n",
      "Est. time remaining: 23.6 minutes\n",
      "Checkpoint saved at: 35_acuity_predictions_all_info.csv\n",
      "Processing batch 127/199, records 2520-2540\n"
     ]
    },
    {
     "name": "stderr",
     "output_type": "stream",
     "text": [
      "100%|██████████| 20/20 [00:12<00:00,  1.55it/s]\n"
     ]
    },
    {
     "name": "stdout",
     "output_type": "stream",
     "text": [
      "Progress: 2540/3977 records (63.9%)\n",
      "Speed: 1.03 records/second\n",
      "Est. time remaining: 23.2 minutes\n",
      "Checkpoint saved at: 35_acuity_predictions_all_info.csv\n",
      "Processing batch 128/199, records 2540-2560\n"
     ]
    },
    {
     "name": "stderr",
     "output_type": "stream",
     "text": [
      "100%|██████████| 20/20 [00:12<00:00,  1.61it/s]\n"
     ]
    },
    {
     "name": "stdout",
     "output_type": "stream",
     "text": [
      "Progress: 2560/3977 records (64.4%)\n",
      "Speed: 1.03 records/second\n",
      "Est. time remaining: 22.9 minutes\n",
      "Checkpoint saved at: 35_acuity_predictions_all_info.csv\n",
      "Processing batch 129/199, records 2560-2580\n"
     ]
    },
    {
     "name": "stderr",
     "output_type": "stream",
     "text": [
      "100%|██████████| 20/20 [00:11<00:00,  1.68it/s]\n"
     ]
    },
    {
     "name": "stdout",
     "output_type": "stream",
     "text": [
      "Progress: 2580/3977 records (64.9%)\n",
      "Speed: 1.03 records/second\n",
      "Est. time remaining: 22.6 minutes\n",
      "Checkpoint saved at: 35_acuity_predictions_all_info.csv\n",
      "Processing batch 130/199, records 2580-2600\n"
     ]
    },
    {
     "name": "stderr",
     "output_type": "stream",
     "text": [
      "100%|██████████| 20/20 [00:17<00:00,  1.16it/s]\n"
     ]
    },
    {
     "name": "stdout",
     "output_type": "stream",
     "text": [
      "Progress: 2600/3977 records (65.4%)\n",
      "Speed: 1.03 records/second\n",
      "Est. time remaining: 22.3 minutes\n",
      "Checkpoint saved at: 35_acuity_predictions_all_info.csv\n",
      "Processing batch 131/199, records 2600-2620\n"
     ]
    },
    {
     "name": "stderr",
     "output_type": "stream",
     "text": [
      "100%|██████████| 20/20 [00:11<00:00,  1.75it/s]\n"
     ]
    },
    {
     "name": "stdout",
     "output_type": "stream",
     "text": [
      "Progress: 2620/3977 records (65.9%)\n",
      "Speed: 1.03 records/second\n",
      "Est. time remaining: 21.9 minutes\n",
      "Checkpoint saved at: 35_acuity_predictions_all_info.csv\n",
      "Processing batch 132/199, records 2620-2640\n"
     ]
    },
    {
     "name": "stderr",
     "output_type": "stream",
     "text": [
      "100%|██████████| 20/20 [00:12<00:00,  1.62it/s]\n"
     ]
    },
    {
     "name": "stdout",
     "output_type": "stream",
     "text": [
      "Progress: 2640/3977 records (66.4%)\n",
      "Speed: 1.03 records/second\n",
      "Est. time remaining: 21.6 minutes\n",
      "Checkpoint saved at: 35_acuity_predictions_all_info.csv\n",
      "Processing batch 133/199, records 2640-2660\n"
     ]
    },
    {
     "name": "stderr",
     "output_type": "stream",
     "text": [
      "100%|██████████| 20/20 [00:15<00:00,  1.33it/s]\n"
     ]
    },
    {
     "name": "stdout",
     "output_type": "stream",
     "text": [
      "Progress: 2660/3977 records (66.9%)\n",
      "Speed: 1.03 records/second\n",
      "Est. time remaining: 21.3 minutes\n",
      "Checkpoint saved at: 35_acuity_predictions_all_info.csv\n",
      "Processing batch 134/199, records 2660-2680\n"
     ]
    },
    {
     "name": "stderr",
     "output_type": "stream",
     "text": [
      "100%|██████████| 20/20 [00:12<00:00,  1.58it/s]\n"
     ]
    },
    {
     "name": "stdout",
     "output_type": "stream",
     "text": [
      "Progress: 2680/3977 records (67.4%)\n",
      "Speed: 1.03 records/second\n",
      "Est. time remaining: 20.9 minutes\n",
      "Checkpoint saved at: 35_acuity_predictions_all_info.csv\n",
      "Processing batch 135/199, records 2680-2700\n"
     ]
    },
    {
     "name": "stderr",
     "output_type": "stream",
     "text": [
      "100%|██████████| 20/20 [00:15<00:00,  1.32it/s]\n"
     ]
    },
    {
     "name": "stdout",
     "output_type": "stream",
     "text": [
      "Progress: 2700/3977 records (67.9%)\n",
      "Speed: 1.03 records/second\n",
      "Est. time remaining: 20.6 minutes\n",
      "Checkpoint saved at: 35_acuity_predictions_all_info.csv\n",
      "Processing batch 136/199, records 2700-2720\n"
     ]
    },
    {
     "name": "stderr",
     "output_type": "stream",
     "text": [
      "100%|██████████| 20/20 [00:13<00:00,  1.50it/s]\n"
     ]
    },
    {
     "name": "stdout",
     "output_type": "stream",
     "text": [
      "Progress: 2720/3977 records (68.4%)\n",
      "Speed: 1.03 records/second\n",
      "Est. time remaining: 20.3 minutes\n",
      "Checkpoint saved at: 35_acuity_predictions_all_info.csv\n",
      "Processing batch 137/199, records 2720-2740\n"
     ]
    },
    {
     "name": "stderr",
     "output_type": "stream",
     "text": [
      "100%|██████████| 20/20 [00:13<00:00,  1.52it/s]\n"
     ]
    },
    {
     "name": "stdout",
     "output_type": "stream",
     "text": [
      "Progress: 2740/3977 records (68.9%)\n",
      "Speed: 1.03 records/second\n",
      "Est. time remaining: 20.0 minutes\n",
      "Checkpoint saved at: 35_acuity_predictions_all_info.csv\n",
      "Processing batch 138/199, records 2740-2760\n"
     ]
    },
    {
     "name": "stderr",
     "output_type": "stream",
     "text": [
      "100%|██████████| 20/20 [00:15<00:00,  1.27it/s]\n"
     ]
    },
    {
     "name": "stdout",
     "output_type": "stream",
     "text": [
      "Progress: 2760/3977 records (69.4%)\n",
      "Speed: 1.03 records/second\n",
      "Est. time remaining: 19.7 minutes\n",
      "Checkpoint saved at: 35_acuity_predictions_all_info.csv\n",
      "Processing batch 139/199, records 2760-2780\n"
     ]
    },
    {
     "name": "stderr",
     "output_type": "stream",
     "text": [
      "100%|██████████| 20/20 [00:15<00:00,  1.32it/s]\n"
     ]
    },
    {
     "name": "stdout",
     "output_type": "stream",
     "text": [
      "Progress: 2780/3977 records (69.9%)\n",
      "Speed: 1.03 records/second\n",
      "Est. time remaining: 19.4 minutes\n",
      "Checkpoint saved at: 35_acuity_predictions_all_info.csv\n",
      "Processing batch 140/199, records 2780-2800\n"
     ]
    },
    {
     "name": "stderr",
     "output_type": "stream",
     "text": [
      "100%|██████████| 20/20 [00:14<00:00,  1.39it/s]\n"
     ]
    },
    {
     "name": "stdout",
     "output_type": "stream",
     "text": [
      "Progress: 2800/3977 records (70.4%)\n",
      "Speed: 1.03 records/second\n",
      "Est. time remaining: 19.0 minutes\n",
      "Checkpoint saved at: 35_acuity_predictions_all_info.csv\n",
      "Processing batch 141/199, records 2800-2820\n"
     ]
    },
    {
     "name": "stderr",
     "output_type": "stream",
     "text": [
      "100%|██████████| 20/20 [00:12<00:00,  1.57it/s]\n"
     ]
    },
    {
     "name": "stdout",
     "output_type": "stream",
     "text": [
      "Progress: 2820/3977 records (70.9%)\n",
      "Speed: 1.03 records/second\n",
      "Est. time remaining: 18.7 minutes\n",
      "Checkpoint saved at: 35_acuity_predictions_all_info.csv\n",
      "Processing batch 142/199, records 2820-2840\n"
     ]
    },
    {
     "name": "stderr",
     "output_type": "stream",
     "text": [
      "100%|██████████| 20/20 [00:12<00:00,  1.56it/s]\n"
     ]
    },
    {
     "name": "stdout",
     "output_type": "stream",
     "text": [
      "Progress: 2840/3977 records (71.4%)\n",
      "Speed: 1.03 records/second\n",
      "Est. time remaining: 18.4 minutes\n",
      "Checkpoint saved at: 35_acuity_predictions_all_info.csv\n",
      "Processing batch 143/199, records 2840-2860\n"
     ]
    },
    {
     "name": "stderr",
     "output_type": "stream",
     "text": [
      "100%|██████████| 20/20 [00:17<00:00,  1.11it/s]\n"
     ]
    },
    {
     "name": "stdout",
     "output_type": "stream",
     "text": [
      "Progress: 2860/3977 records (71.9%)\n",
      "Speed: 1.03 records/second\n",
      "Est. time remaining: 18.1 minutes\n",
      "Checkpoint saved at: 35_acuity_predictions_all_info.csv\n",
      "Processing batch 144/199, records 2860-2880\n"
     ]
    },
    {
     "name": "stderr",
     "output_type": "stream",
     "text": [
      "100%|██████████| 20/20 [00:15<00:00,  1.30it/s]\n"
     ]
    },
    {
     "name": "stdout",
     "output_type": "stream",
     "text": [
      "Progress: 2880/3977 records (72.4%)\n",
      "Speed: 1.03 records/second\n",
      "Est. time remaining: 17.8 minutes\n",
      "Checkpoint saved at: 35_acuity_predictions_all_info.csv\n",
      "Processing batch 145/199, records 2880-2900\n"
     ]
    },
    {
     "name": "stderr",
     "output_type": "stream",
     "text": [
      "100%|██████████| 20/20 [00:12<00:00,  1.57it/s]\n"
     ]
    },
    {
     "name": "stdout",
     "output_type": "stream",
     "text": [
      "Progress: 2900/3977 records (72.9%)\n",
      "Speed: 1.03 records/second\n",
      "Est. time remaining: 17.4 minutes\n",
      "Checkpoint saved at: 35_acuity_predictions_all_info.csv\n",
      "Processing batch 146/199, records 2900-2920\n"
     ]
    },
    {
     "name": "stderr",
     "output_type": "stream",
     "text": [
      "100%|██████████| 20/20 [00:15<00:00,  1.32it/s]\n"
     ]
    },
    {
     "name": "stdout",
     "output_type": "stream",
     "text": [
      "Progress: 2920/3977 records (73.4%)\n",
      "Speed: 1.03 records/second\n",
      "Est. time remaining: 17.1 minutes\n",
      "Checkpoint saved at: 35_acuity_predictions_all_info.csv\n",
      "Processing batch 147/199, records 2920-2940\n"
     ]
    },
    {
     "name": "stderr",
     "output_type": "stream",
     "text": [
      "100%|██████████| 20/20 [00:11<00:00,  1.68it/s]\n"
     ]
    },
    {
     "name": "stdout",
     "output_type": "stream",
     "text": [
      "Progress: 2940/3977 records (73.9%)\n",
      "Speed: 1.03 records/second\n",
      "Est. time remaining: 16.8 minutes\n",
      "Checkpoint saved at: 35_acuity_predictions_all_info.csv\n",
      "Processing batch 148/199, records 2940-2960\n"
     ]
    },
    {
     "name": "stderr",
     "output_type": "stream",
     "text": [
      "100%|██████████| 20/20 [00:14<00:00,  1.36it/s]\n"
     ]
    },
    {
     "name": "stdout",
     "output_type": "stream",
     "text": [
      "Progress: 2960/3977 records (74.4%)\n",
      "Speed: 1.03 records/second\n",
      "Est. time remaining: 16.5 minutes\n",
      "Checkpoint saved at: 35_acuity_predictions_all_info.csv\n",
      "Processing batch 149/199, records 2960-2980\n"
     ]
    },
    {
     "name": "stderr",
     "output_type": "stream",
     "text": [
      "100%|██████████| 20/20 [00:36<00:00,  1.81s/it]\n"
     ]
    },
    {
     "name": "stdout",
     "output_type": "stream",
     "text": [
      "Progress: 2980/3977 records (74.9%)\n",
      "Speed: 1.02 records/second\n",
      "Est. time remaining: 16.3 minutes\n",
      "Checkpoint saved at: 35_acuity_predictions_all_info.csv\n",
      "Processing batch 150/199, records 2980-3000\n"
     ]
    },
    {
     "name": "stderr",
     "output_type": "stream",
     "text": [
      "100%|██████████| 20/20 [00:12<00:00,  1.60it/s]\n"
     ]
    },
    {
     "name": "stdout",
     "output_type": "stream",
     "text": [
      "Progress: 3000/3977 records (75.4%)\n",
      "Speed: 1.02 records/second\n",
      "Est. time remaining: 15.9 minutes\n",
      "Checkpoint saved at: 35_acuity_predictions_all_info.csv\n",
      "Processing batch 151/199, records 3000-3020\n"
     ]
    },
    {
     "name": "stderr",
     "output_type": "stream",
     "text": [
      "100%|██████████| 20/20 [00:14<00:00,  1.34it/s]\n"
     ]
    },
    {
     "name": "stdout",
     "output_type": "stream",
     "text": [
      "Progress: 3020/3977 records (75.9%)\n",
      "Speed: 1.02 records/second\n",
      "Est. time remaining: 15.6 minutes\n",
      "Checkpoint saved at: 35_acuity_predictions_all_info.csv\n",
      "Processing batch 152/199, records 3020-3040\n"
     ]
    },
    {
     "name": "stderr",
     "output_type": "stream",
     "text": [
      "100%|██████████| 20/20 [00:14<00:00,  1.38it/s]\n"
     ]
    },
    {
     "name": "stdout",
     "output_type": "stream",
     "text": [
      "Progress: 3040/3977 records (76.4%)\n",
      "Speed: 1.02 records/second\n",
      "Est. time remaining: 15.3 minutes\n",
      "Checkpoint saved at: 35_acuity_predictions_all_info.csv\n",
      "Processing batch 153/199, records 3040-3060\n"
     ]
    },
    {
     "name": "stderr",
     "output_type": "stream",
     "text": [
      "100%|██████████| 20/20 [00:13<00:00,  1.45it/s]\n"
     ]
    },
    {
     "name": "stdout",
     "output_type": "stream",
     "text": [
      "Progress: 3060/3977 records (76.9%)\n",
      "Speed: 1.02 records/second\n",
      "Est. time remaining: 15.0 minutes\n",
      "Checkpoint saved at: 35_acuity_predictions_all_info.csv\n",
      "Processing batch 154/199, records 3060-3080\n"
     ]
    },
    {
     "name": "stderr",
     "output_type": "stream",
     "text": [
      "100%|██████████| 20/20 [00:14<00:00,  1.36it/s]\n"
     ]
    },
    {
     "name": "stdout",
     "output_type": "stream",
     "text": [
      "Progress: 3080/3977 records (77.4%)\n",
      "Speed: 1.02 records/second\n",
      "Est. time remaining: 14.7 minutes\n",
      "Checkpoint saved at: 35_acuity_predictions_all_info.csv\n",
      "Processing batch 155/199, records 3080-3100\n"
     ]
    },
    {
     "name": "stderr",
     "output_type": "stream",
     "text": [
      "100%|██████████| 20/20 [00:15<00:00,  1.26it/s]\n"
     ]
    },
    {
     "name": "stdout",
     "output_type": "stream",
     "text": [
      "Progress: 3100/3977 records (77.9%)\n",
      "Speed: 1.02 records/second\n",
      "Est. time remaining: 14.3 minutes\n",
      "Checkpoint saved at: 35_acuity_predictions_all_info.csv\n",
      "Processing batch 156/199, records 3100-3120\n"
     ]
    },
    {
     "name": "stderr",
     "output_type": "stream",
     "text": [
      "100%|██████████| 20/20 [00:14<00:00,  1.35it/s]\n"
     ]
    },
    {
     "name": "stdout",
     "output_type": "stream",
     "text": [
      "Progress: 3120/3977 records (78.5%)\n",
      "Speed: 1.02 records/second\n",
      "Est. time remaining: 14.0 minutes\n",
      "Checkpoint saved at: 35_acuity_predictions_all_info.csv\n",
      "Processing batch 157/199, records 3120-3140\n"
     ]
    },
    {
     "name": "stderr",
     "output_type": "stream",
     "text": [
      "100%|██████████| 20/20 [00:14<00:00,  1.40it/s]\n"
     ]
    },
    {
     "name": "stdout",
     "output_type": "stream",
     "text": [
      "Progress: 3140/3977 records (79.0%)\n",
      "Speed: 1.02 records/second\n",
      "Est. time remaining: 13.7 minutes\n",
      "Checkpoint saved at: 35_acuity_predictions_all_info.csv\n",
      "Processing batch 158/199, records 3140-3160\n"
     ]
    },
    {
     "name": "stderr",
     "output_type": "stream",
     "text": [
      "100%|██████████| 20/20 [00:14<00:00,  1.34it/s]\n"
     ]
    },
    {
     "name": "stdout",
     "output_type": "stream",
     "text": [
      "Progress: 3160/3977 records (79.5%)\n",
      "Speed: 1.02 records/second\n",
      "Est. time remaining: 13.4 minutes\n",
      "Checkpoint saved at: 35_acuity_predictions_all_info.csv\n",
      "Processing batch 159/199, records 3160-3180\n"
     ]
    },
    {
     "name": "stderr",
     "output_type": "stream",
     "text": [
      "100%|██████████| 20/20 [00:14<00:00,  1.39it/s]\n"
     ]
    },
    {
     "name": "stdout",
     "output_type": "stream",
     "text": [
      "Progress: 3180/3977 records (80.0%)\n",
      "Speed: 1.02 records/second\n",
      "Est. time remaining: 13.1 minutes\n",
      "Checkpoint saved at: 35_acuity_predictions_all_info.csv\n",
      "Processing batch 160/199, records 3180-3200\n"
     ]
    },
    {
     "name": "stderr",
     "output_type": "stream",
     "text": [
      "100%|██████████| 20/20 [00:13<00:00,  1.46it/s]\n"
     ]
    },
    {
     "name": "stdout",
     "output_type": "stream",
     "text": [
      "Progress: 3200/3977 records (80.5%)\n",
      "Speed: 1.02 records/second\n",
      "Est. time remaining: 12.7 minutes\n",
      "Checkpoint saved at: 35_acuity_predictions_all_info.csv\n",
      "Processing batch 161/199, records 3200-3220\n"
     ]
    },
    {
     "name": "stderr",
     "output_type": "stream",
     "text": [
      "100%|██████████| 20/20 [00:14<00:00,  1.35it/s]\n"
     ]
    },
    {
     "name": "stdout",
     "output_type": "stream",
     "text": [
      "Progress: 3220/3977 records (81.0%)\n",
      "Speed: 1.02 records/second\n",
      "Est. time remaining: 12.4 minutes\n",
      "Checkpoint saved at: 35_acuity_predictions_all_info.csv\n",
      "Processing batch 162/199, records 3220-3240\n"
     ]
    },
    {
     "name": "stderr",
     "output_type": "stream",
     "text": [
      "100%|██████████| 20/20 [00:12<00:00,  1.57it/s]\n"
     ]
    },
    {
     "name": "stdout",
     "output_type": "stream",
     "text": [
      "Progress: 3240/3977 records (81.5%)\n",
      "Speed: 1.02 records/second\n",
      "Est. time remaining: 12.1 minutes\n",
      "Checkpoint saved at: 35_acuity_predictions_all_info.csv\n",
      "Processing batch 163/199, records 3240-3260\n"
     ]
    },
    {
     "name": "stderr",
     "output_type": "stream",
     "text": [
      "100%|██████████| 20/20 [00:13<00:00,  1.51it/s]\n"
     ]
    },
    {
     "name": "stdout",
     "output_type": "stream",
     "text": [
      "Progress: 3260/3977 records (82.0%)\n",
      "Speed: 1.02 records/second\n",
      "Est. time remaining: 11.8 minutes\n",
      "Checkpoint saved at: 35_acuity_predictions_all_info.csv\n",
      "Processing batch 164/199, records 3260-3280\n"
     ]
    },
    {
     "name": "stderr",
     "output_type": "stream",
     "text": [
      "100%|██████████| 20/20 [00:13<00:00,  1.52it/s]\n"
     ]
    },
    {
     "name": "stdout",
     "output_type": "stream",
     "text": [
      "Progress: 3280/3977 records (82.5%)\n",
      "Speed: 1.02 records/second\n",
      "Est. time remaining: 11.4 minutes\n",
      "Checkpoint saved at: 35_acuity_predictions_all_info.csv\n",
      "Processing batch 165/199, records 3280-3300\n"
     ]
    },
    {
     "name": "stderr",
     "output_type": "stream",
     "text": [
      "100%|██████████| 20/20 [00:15<00:00,  1.32it/s]\n"
     ]
    },
    {
     "name": "stdout",
     "output_type": "stream",
     "text": [
      "Progress: 3300/3977 records (83.0%)\n",
      "Speed: 1.02 records/second\n",
      "Est. time remaining: 11.1 minutes\n",
      "Checkpoint saved at: 35_acuity_predictions_all_info.csv\n",
      "Processing batch 166/199, records 3300-3320\n"
     ]
    },
    {
     "name": "stderr",
     "output_type": "stream",
     "text": [
      "100%|██████████| 20/20 [00:13<00:00,  1.53it/s]\n"
     ]
    },
    {
     "name": "stdout",
     "output_type": "stream",
     "text": [
      "Progress: 3320/3977 records (83.5%)\n",
      "Speed: 1.02 records/second\n",
      "Est. time remaining: 10.8 minutes\n",
      "Checkpoint saved at: 35_acuity_predictions_all_info.csv\n",
      "Processing batch 167/199, records 3320-3340\n"
     ]
    },
    {
     "name": "stderr",
     "output_type": "stream",
     "text": [
      "100%|██████████| 20/20 [00:12<00:00,  1.61it/s]\n"
     ]
    },
    {
     "name": "stdout",
     "output_type": "stream",
     "text": [
      "Progress: 3340/3977 records (84.0%)\n",
      "Speed: 1.02 records/second\n",
      "Est. time remaining: 10.4 minutes\n",
      "Checkpoint saved at: 35_acuity_predictions_all_info.csv\n",
      "Processing batch 168/199, records 3340-3360\n"
     ]
    },
    {
     "name": "stderr",
     "output_type": "stream",
     "text": [
      "100%|██████████| 20/20 [00:18<00:00,  1.10it/s]\n"
     ]
    },
    {
     "name": "stdout",
     "output_type": "stream",
     "text": [
      "Progress: 3360/3977 records (84.5%)\n",
      "Speed: 1.02 records/second\n",
      "Est. time remaining: 10.1 minutes\n",
      "Checkpoint saved at: 35_acuity_predictions_all_info.csv\n",
      "Processing batch 169/199, records 3360-3380\n"
     ]
    },
    {
     "name": "stderr",
     "output_type": "stream",
     "text": [
      "100%|██████████| 20/20 [00:13<00:00,  1.44it/s]\n"
     ]
    },
    {
     "name": "stdout",
     "output_type": "stream",
     "text": [
      "Progress: 3380/3977 records (85.0%)\n",
      "Speed: 1.01 records/second\n",
      "Est. time remaining: 9.8 minutes\n",
      "Checkpoint saved at: 35_acuity_predictions_all_info.csv\n",
      "Processing batch 170/199, records 3380-3400\n"
     ]
    },
    {
     "name": "stderr",
     "output_type": "stream",
     "text": [
      "100%|██████████| 20/20 [00:12<00:00,  1.62it/s]\n"
     ]
    },
    {
     "name": "stdout",
     "output_type": "stream",
     "text": [
      "Progress: 3400/3977 records (85.5%)\n",
      "Speed: 1.02 records/second\n",
      "Est. time remaining: 9.5 minutes\n",
      "Checkpoint saved at: 35_acuity_predictions_all_info.csv\n",
      "Processing batch 171/199, records 3400-3420\n"
     ]
    },
    {
     "name": "stderr",
     "output_type": "stream",
     "text": [
      "100%|██████████| 20/20 [00:15<00:00,  1.26it/s]\n"
     ]
    },
    {
     "name": "stdout",
     "output_type": "stream",
     "text": [
      "Progress: 3420/3977 records (86.0%)\n",
      "Speed: 1.01 records/second\n",
      "Est. time remaining: 9.2 minutes\n",
      "Checkpoint saved at: 35_acuity_predictions_all_info.csv\n",
      "Processing batch 172/199, records 3420-3440\n"
     ]
    },
    {
     "name": "stderr",
     "output_type": "stream",
     "text": [
      "100%|██████████| 20/20 [00:14<00:00,  1.37it/s]\n"
     ]
    },
    {
     "name": "stdout",
     "output_type": "stream",
     "text": [
      "Progress: 3440/3977 records (86.5%)\n",
      "Speed: 1.01 records/second\n",
      "Est. time remaining: 8.8 minutes\n",
      "Checkpoint saved at: 35_acuity_predictions_all_info.csv\n",
      "Processing batch 173/199, records 3440-3460\n"
     ]
    },
    {
     "name": "stderr",
     "output_type": "stream",
     "text": [
      "100%|██████████| 20/20 [00:11<00:00,  1.69it/s]\n"
     ]
    },
    {
     "name": "stdout",
     "output_type": "stream",
     "text": [
      "Progress: 3460/3977 records (87.0%)\n",
      "Speed: 1.01 records/second\n",
      "Est. time remaining: 8.5 minutes\n",
      "Checkpoint saved at: 35_acuity_predictions_all_info.csv\n",
      "Processing batch 174/199, records 3460-3480\n"
     ]
    },
    {
     "name": "stderr",
     "output_type": "stream",
     "text": [
      "100%|██████████| 20/20 [00:15<00:00,  1.30it/s]\n"
     ]
    },
    {
     "name": "stdout",
     "output_type": "stream",
     "text": [
      "Progress: 3480/3977 records (87.5%)\n",
      "Speed: 1.01 records/second\n",
      "Est. time remaining: 8.2 minutes\n",
      "Checkpoint saved at: 35_acuity_predictions_all_info.csv\n",
      "Processing batch 175/199, records 3480-3500\n"
     ]
    },
    {
     "name": "stderr",
     "output_type": "stream",
     "text": [
      "100%|██████████| 20/20 [00:13<00:00,  1.52it/s]\n"
     ]
    },
    {
     "name": "stdout",
     "output_type": "stream",
     "text": [
      "Progress: 3500/3977 records (88.0%)\n",
      "Speed: 1.01 records/second\n",
      "Est. time remaining: 7.8 minutes\n",
      "Checkpoint saved at: 35_acuity_predictions_all_info.csv\n",
      "Processing batch 176/199, records 3500-3520\n"
     ]
    },
    {
     "name": "stderr",
     "output_type": "stream",
     "text": [
      "100%|██████████| 20/20 [00:14<00:00,  1.42it/s]\n"
     ]
    },
    {
     "name": "stdout",
     "output_type": "stream",
     "text": [
      "Progress: 3520/3977 records (88.5%)\n",
      "Speed: 1.01 records/second\n",
      "Est. time remaining: 7.5 minutes\n",
      "Checkpoint saved at: 35_acuity_predictions_all_info.csv\n",
      "Processing batch 177/199, records 3520-3540\n"
     ]
    },
    {
     "name": "stderr",
     "output_type": "stream",
     "text": [
      "100%|██████████| 20/20 [00:13<00:00,  1.47it/s]\n"
     ]
    },
    {
     "name": "stdout",
     "output_type": "stream",
     "text": [
      "Progress: 3540/3977 records (89.0%)\n",
      "Speed: 1.01 records/second\n",
      "Est. time remaining: 7.2 minutes\n",
      "Checkpoint saved at: 35_acuity_predictions_all_info.csv\n",
      "Processing batch 178/199, records 3540-3560\n"
     ]
    },
    {
     "name": "stderr",
     "output_type": "stream",
     "text": [
      "100%|██████████| 20/20 [00:13<00:00,  1.47it/s]\n"
     ]
    },
    {
     "name": "stdout",
     "output_type": "stream",
     "text": [
      "Progress: 3560/3977 records (89.5%)\n",
      "Speed: 1.01 records/second\n",
      "Est. time remaining: 6.9 minutes\n",
      "Checkpoint saved at: 35_acuity_predictions_all_info.csv\n",
      "Processing batch 179/199, records 3560-3580\n"
     ]
    },
    {
     "name": "stderr",
     "output_type": "stream",
     "text": [
      "100%|██████████| 20/20 [00:12<00:00,  1.58it/s]\n"
     ]
    },
    {
     "name": "stdout",
     "output_type": "stream",
     "text": [
      "Progress: 3580/3977 records (90.0%)\n",
      "Speed: 1.01 records/second\n",
      "Est. time remaining: 6.5 minutes\n",
      "Checkpoint saved at: 35_acuity_predictions_all_info.csv\n",
      "Processing batch 180/199, records 3580-3600\n"
     ]
    },
    {
     "name": "stderr",
     "output_type": "stream",
     "text": [
      "100%|██████████| 20/20 [00:12<00:00,  1.61it/s]\n"
     ]
    },
    {
     "name": "stdout",
     "output_type": "stream",
     "text": [
      "Progress: 3600/3977 records (90.5%)\n",
      "Speed: 1.01 records/second\n",
      "Est. time remaining: 6.2 minutes\n",
      "Checkpoint saved at: 35_acuity_predictions_all_info.csv\n",
      "Processing batch 181/199, records 3600-3620\n"
     ]
    },
    {
     "name": "stderr",
     "output_type": "stream",
     "text": [
      "100%|██████████| 20/20 [00:12<00:00,  1.58it/s]\n"
     ]
    },
    {
     "name": "stdout",
     "output_type": "stream",
     "text": [
      "Progress: 3620/3977 records (91.0%)\n",
      "Speed: 1.01 records/second\n",
      "Est. time remaining: 5.9 minutes\n",
      "Checkpoint saved at: 35_acuity_predictions_all_info.csv\n",
      "Processing batch 182/199, records 3620-3640\n"
     ]
    },
    {
     "name": "stderr",
     "output_type": "stream",
     "text": [
      "100%|██████████| 20/20 [00:15<00:00,  1.32it/s]\n"
     ]
    },
    {
     "name": "stdout",
     "output_type": "stream",
     "text": [
      "Progress: 3640/3977 records (91.5%)\n",
      "Speed: 1.01 records/second\n",
      "Est. time remaining: 5.5 minutes\n",
      "Checkpoint saved at: 35_acuity_predictions_all_info.csv\n",
      "Processing batch 183/199, records 3640-3660\n"
     ]
    },
    {
     "name": "stderr",
     "output_type": "stream",
     "text": [
      "100%|██████████| 20/20 [00:13<00:00,  1.46it/s]\n"
     ]
    },
    {
     "name": "stdout",
     "output_type": "stream",
     "text": [
      "Progress: 3660/3977 records (92.0%)\n",
      "Speed: 1.01 records/second\n",
      "Est. time remaining: 5.2 minutes\n",
      "Checkpoint saved at: 35_acuity_predictions_all_info.csv\n",
      "Processing batch 184/199, records 3660-3680\n"
     ]
    },
    {
     "name": "stderr",
     "output_type": "stream",
     "text": [
      "100%|██████████| 20/20 [00:15<00:00,  1.31it/s]\n"
     ]
    },
    {
     "name": "stdout",
     "output_type": "stream",
     "text": [
      "Progress: 3680/3977 records (92.5%)\n",
      "Speed: 1.01 records/second\n",
      "Est. time remaining: 4.9 minutes\n",
      "Checkpoint saved at: 35_acuity_predictions_all_info.csv\n",
      "Processing batch 185/199, records 3680-3700\n"
     ]
    },
    {
     "name": "stderr",
     "output_type": "stream",
     "text": [
      "100%|██████████| 20/20 [00:13<00:00,  1.54it/s]\n"
     ]
    },
    {
     "name": "stdout",
     "output_type": "stream",
     "text": [
      "Progress: 3700/3977 records (93.0%)\n",
      "Speed: 1.01 records/second\n",
      "Est. time remaining: 4.6 minutes\n",
      "Checkpoint saved at: 35_acuity_predictions_all_info.csv\n",
      "Processing batch 186/199, records 3700-3720\n"
     ]
    },
    {
     "name": "stderr",
     "output_type": "stream",
     "text": [
      "100%|██████████| 20/20 [00:12<00:00,  1.60it/s]\n"
     ]
    },
    {
     "name": "stdout",
     "output_type": "stream",
     "text": [
      "Progress: 3720/3977 records (93.5%)\n",
      "Speed: 1.01 records/second\n",
      "Est. time remaining: 4.2 minutes\n",
      "Checkpoint saved at: 35_acuity_predictions_all_info.csv\n",
      "Processing batch 187/199, records 3720-3740\n"
     ]
    },
    {
     "name": "stderr",
     "output_type": "stream",
     "text": [
      "100%|██████████| 20/20 [00:13<00:00,  1.47it/s]\n"
     ]
    },
    {
     "name": "stdout",
     "output_type": "stream",
     "text": [
      "Progress: 3740/3977 records (94.0%)\n",
      "Speed: 1.01 records/second\n",
      "Est. time remaining: 3.9 minutes\n",
      "Checkpoint saved at: 35_acuity_predictions_all_info.csv\n",
      "Processing batch 188/199, records 3740-3760\n"
     ]
    },
    {
     "name": "stderr",
     "output_type": "stream",
     "text": [
      "100%|██████████| 20/20 [00:13<00:00,  1.52it/s]\n"
     ]
    },
    {
     "name": "stdout",
     "output_type": "stream",
     "text": [
      "Progress: 3760/3977 records (94.5%)\n",
      "Speed: 1.01 records/second\n",
      "Est. time remaining: 3.6 minutes\n",
      "Checkpoint saved at: 35_acuity_predictions_all_info.csv\n",
      "Processing batch 189/199, records 3760-3780\n"
     ]
    },
    {
     "name": "stderr",
     "output_type": "stream",
     "text": [
      "100%|██████████| 20/20 [00:12<00:00,  1.64it/s]\n"
     ]
    },
    {
     "name": "stdout",
     "output_type": "stream",
     "text": [
      "Progress: 3780/3977 records (95.0%)\n",
      "Speed: 1.01 records/second\n",
      "Est. time remaining: 3.2 minutes\n",
      "Checkpoint saved at: 35_acuity_predictions_all_info.csv\n",
      "Processing batch 190/199, records 3780-3800\n"
     ]
    },
    {
     "name": "stderr",
     "output_type": "stream",
     "text": [
      "100%|██████████| 20/20 [00:12<00:00,  1.64it/s]\n"
     ]
    },
    {
     "name": "stdout",
     "output_type": "stream",
     "text": [
      "Progress: 3800/3977 records (95.5%)\n",
      "Speed: 1.01 records/second\n",
      "Est. time remaining: 2.9 minutes\n",
      "Checkpoint saved at: 35_acuity_predictions_all_info.csv\n",
      "Processing batch 191/199, records 3800-3820\n"
     ]
    },
    {
     "name": "stderr",
     "output_type": "stream",
     "text": [
      "100%|██████████| 20/20 [00:13<00:00,  1.44it/s]\n"
     ]
    },
    {
     "name": "stdout",
     "output_type": "stream",
     "text": [
      "Progress: 3820/3977 records (96.1%)\n",
      "Speed: 1.01 records/second\n",
      "Est. time remaining: 2.6 minutes\n",
      "Checkpoint saved at: 35_acuity_predictions_all_info.csv\n",
      "Processing batch 192/199, records 3820-3840\n"
     ]
    },
    {
     "name": "stderr",
     "output_type": "stream",
     "text": [
      "100%|██████████| 20/20 [00:13<00:00,  1.45it/s]\n"
     ]
    },
    {
     "name": "stdout",
     "output_type": "stream",
     "text": [
      "Progress: 3840/3977 records (96.6%)\n",
      "Speed: 1.01 records/second\n",
      "Est. time remaining: 2.3 minutes\n",
      "Checkpoint saved at: 35_acuity_predictions_all_info.csv\n",
      "Processing batch 193/199, records 3840-3860\n"
     ]
    },
    {
     "name": "stderr",
     "output_type": "stream",
     "text": [
      "100%|██████████| 20/20 [00:11<00:00,  1.74it/s]\n"
     ]
    },
    {
     "name": "stdout",
     "output_type": "stream",
     "text": [
      "Progress: 3860/3977 records (97.1%)\n",
      "Speed: 1.01 records/second\n",
      "Est. time remaining: 1.9 minutes\n",
      "Checkpoint saved at: 35_acuity_predictions_all_info.csv\n",
      "Processing batch 194/199, records 3860-3880\n"
     ]
    },
    {
     "name": "stderr",
     "output_type": "stream",
     "text": [
      "100%|██████████| 20/20 [00:12<00:00,  1.56it/s]\n"
     ]
    },
    {
     "name": "stdout",
     "output_type": "stream",
     "text": [
      "Progress: 3880/3977 records (97.6%)\n",
      "Speed: 1.01 records/second\n",
      "Est. time remaining: 1.6 minutes\n",
      "Checkpoint saved at: 35_acuity_predictions_all_info.csv\n",
      "Processing batch 195/199, records 3880-3900\n"
     ]
    },
    {
     "name": "stderr",
     "output_type": "stream",
     "text": [
      "100%|██████████| 20/20 [00:13<00:00,  1.52it/s]\n"
     ]
    },
    {
     "name": "stdout",
     "output_type": "stream",
     "text": [
      "Progress: 3900/3977 records (98.1%)\n",
      "Speed: 1.01 records/second\n",
      "Est. time remaining: 1.3 minutes\n",
      "Checkpoint saved at: 35_acuity_predictions_all_info.csv\n",
      "Processing batch 196/199, records 3900-3920\n"
     ]
    },
    {
     "name": "stderr",
     "output_type": "stream",
     "text": [
      "100%|██████████| 20/20 [00:13<00:00,  1.48it/s]\n"
     ]
    },
    {
     "name": "stdout",
     "output_type": "stream",
     "text": [
      "Progress: 3920/3977 records (98.6%)\n",
      "Speed: 1.01 records/second\n",
      "Est. time remaining: 0.9 minutes\n",
      "Checkpoint saved at: 35_acuity_predictions_all_info.csv\n",
      "Processing batch 197/199, records 3920-3940\n"
     ]
    },
    {
     "name": "stderr",
     "output_type": "stream",
     "text": [
      "100%|██████████| 20/20 [00:16<00:00,  1.22it/s]\n"
     ]
    },
    {
     "name": "stdout",
     "output_type": "stream",
     "text": [
      "Progress: 3940/3977 records (99.1%)\n",
      "Speed: 1.01 records/second\n",
      "Est. time remaining: 0.6 minutes\n",
      "Checkpoint saved at: 35_acuity_predictions_all_info.csv\n",
      "Processing batch 198/199, records 3940-3960\n"
     ]
    },
    {
     "name": "stderr",
     "output_type": "stream",
     "text": [
      "100%|██████████| 20/20 [00:13<00:00,  1.52it/s]\n"
     ]
    },
    {
     "name": "stdout",
     "output_type": "stream",
     "text": [
      "Progress: 3960/3977 records (99.6%)\n",
      "Speed: 1.01 records/second\n",
      "Est. time remaining: 0.3 minutes\n",
      "Checkpoint saved at: 35_acuity_predictions_all_info.csv\n",
      "Processing batch 199/199, records 3960-3977\n"
     ]
    },
    {
     "name": "stderr",
     "output_type": "stream",
     "text": [
      "100%|██████████| 17/17 [00:10<00:00,  1.60it/s]\n"
     ]
    },
    {
     "name": "stdout",
     "output_type": "stream",
     "text": [
      "Progress: 3977/3977 records (100.0%)\n",
      "Speed: 1.01 records/second\n",
      "Est. time remaining: 0.0 minutes\n",
      "Checkpoint saved at: 35_acuity_predictions_all_info.csv\n",
      "Accuracy: 2470/3977 = 0.6211 (62.11%)\n",
      "\n",
      "Accuracy by acuity level:\n",
      "Immediate: 2/20 = 0.1000 (10.00%)\n",
      "Emergent: 617/1619 = 0.3811 (38.11%)\n",
      "Urgent: 1851/2180 = 0.8491 (84.91%)\n",
      "Less Urgent: 0/137 = 0.0000 (0.00%)\n",
      "Non-Urgent: 0/14 = 0.0000 (0.00%)\n",
      "Final results saved to 35_acuity_prediction_results_all_info.csv\n"
     ]
    }
   ],
   "source": [
    "import pandas as pd\n",
    "import requests\n",
    "import time\n",
    "import random\n",
    "import os\n",
    "from tqdm import tqdm\n",
    "import json\n",
    "\n",
    "\n",
    "# Function to predict acuity with robust error handling\n",
    "def predict_acuity_with_all_info(row, max_retries=5):\n",
    "    \"\"\"\n",
    "    Predicts acuity level using all available information with robust error handling.\n",
    "    \"\"\"\n",
    "    # Skip if any critical field is missing\n",
    "    required_fields = ['primarychiefcomplaintname']\n",
    "    for field in required_fields:\n",
    "        if field not in row or pd.isna(row[field]):\n",
    "            return None\n",
    "    \n",
    "    # Build the prompt with all available information\n",
    "    prompt = \"Predict the emergency department acuity level for this patient.\\n\\n\"\n",
    "    \n",
    "    # Add chief complaint (required)\n",
    "    prompt += f\"Chief Complaint: {row['primarychiefcomplaintname']}\\n\"\n",
    "    \n",
    "    # Add optional fields if available\n",
    "    if 'age' in row and not pd.isna(row['age']):\n",
    "        prompt += f\"Age: {row['age']}\\n\"\n",
    "    \n",
    "    if 'sex' in row and not pd.isna(row['sex']):\n",
    "        prompt += f\"Sex: {row['sex']}\\n\"\n",
    "    \n",
    "    if 'firstrace' in row and not pd.isna(row['firstrace']):\n",
    "        prompt += f\"Race: {row['firstrace']}\\n\"\n",
    "    \n",
    "    if 'Vital_Signs' in row and not pd.isna(row['Vital_Signs']):\n",
    "        # Limit vital signs to 300 characters to reduce payload size\n",
    "        vital_signs = str(row['Vital_Signs'])\n",
    "        if len(vital_signs) > 300:\n",
    "            vital_signs = vital_signs[:300] + \"...\"\n",
    "        prompt += f\"Vital Signs: {vital_signs}\\n\"\n",
    "    \n",
    "    # Add instructions for output format\n",
    "    prompt += \"\\nSelect the most appropriate acuity level from the following options ONLY:\\n\"\n",
    "    prompt += \"'Immediate', 'Emergent', 'Urgent', 'Less Urgent', 'Non-Urgent'\\n\\n\"\n",
    "    prompt += \"Respond with ONLY ONE of these five options.\"\n",
    "    \n",
    "    # API request with retries and backoff\n",
    "    current_retry = 0\n",
    "    backoff_time = 2  # Initial backoff in seconds\n",
    "    \n",
    "    while current_retry <= max_retries:\n",
    "        try:\n",
    "            url = f\"{RESOURCE_ENDPOINT}/openai/deployments/{DEPLOYMENT_NAME}/chat/completions?api-version={API_VERSION}\"\n",
    "            \n",
    "            headers = {\n",
    "                \"Content-Type\": \"application/json\",\n",
    "                \"api-key\": API_KEY\n",
    "            }\n",
    "            \n",
    "            payload = {\n",
    "                \"messages\": [\n",
    "                    {\"role\": \"system\", \"content\": \"You are an experienced Emergency Department triage nurse.\"},\n",
    "                    {\"role\": \"user\", \"content\": prompt}\n",
    "                ],\n",
    "                \"temperature\": 0.1,\n",
    "                \"max_tokens\": 50\n",
    "            }\n",
    "            \n",
    "            # Use increased timeout\n",
    "            response = requests.post(url, headers=headers, json=payload, timeout=60)\n",
    "            response.raise_for_status()\n",
    "            \n",
    "            # Extract and clean prediction\n",
    "            prediction = response.json()[\"choices\"][0][\"message\"][\"content\"].strip()\n",
    "            \n",
    "            # Handle potential variations in responses\n",
    "            for acuity in ['Immediate', 'Emergent', 'Urgent', 'Less Urgent', 'Non-Urgent']:\n",
    "                if acuity.lower() in prediction.lower():\n",
    "                    return acuity\n",
    "            \n",
    "            # If no match found, return the raw response for debugging\n",
    "            return prediction\n",
    "            \n",
    "        except requests.exceptions.RequestException as e:\n",
    "            current_retry += 1\n",
    "            \n",
    "            if current_retry > max_retries:\n",
    "                print(f\"Failed after {max_retries} retries: {e}\")\n",
    "                return \"Prediction failed\"\n",
    "            \n",
    "            # Log the error and retry info\n",
    "            print(f\"Request failed: {e}. Retrying {current_retry}/{max_retries} after {backoff_time} seconds...\")\n",
    "            \n",
    "            # Implement exponential backoff with jitter\n",
    "            time.sleep(backoff_time + random.uniform(0, 1))\n",
    "            backoff_time *= 2  # Double the backoff time for next retry\n",
    "    \n",
    "    return \"Prediction failed\"\n",
    "\n",
    "# Process data in batches with checkpointing\n",
    "def process_with_checkpoints(df, batch_size=20, checkpoint_file=\"35_acuity_predictions_all_info.csv\"):\n",
    "    # Check if checkpoint exists\n",
    "    if os.path.exists(checkpoint_file):\n",
    "        processed_df = pd.read_csv(checkpoint_file)\n",
    "        # Create a set of already processed encounter IDs for faster lookups\n",
    "        if 'encounterkey' in processed_df.columns:\n",
    "            processed_ids = set(processed_df['encounterkey'].tolist())\n",
    "        else:\n",
    "            # If no encounterkey column, use row indices\n",
    "            processed_ids = set(range(len(processed_df)))\n",
    "        print(f\"Resuming from checkpoint with {len(processed_ids)} already processed records\")\n",
    "    else:\n",
    "        processed_df = pd.DataFrame(columns=df.columns.tolist() + ['predicted_acuity'])\n",
    "        processed_ids = set()\n",
    "    \n",
    "    # Calculate total batches\n",
    "    total_records = len(df)\n",
    "    total_batches = (total_records + batch_size - 1) // batch_size\n",
    "    \n",
    "    # Track overall progress\n",
    "    processed_count = len(processed_ids)\n",
    "    start_time = time.time()\n",
    "    \n",
    "    # Process in batches\n",
    "    for batch_num in range(total_batches):\n",
    "        start_idx = batch_num * batch_size\n",
    "        end_idx = min(start_idx + batch_size, total_records)\n",
    "        \n",
    "        # Get current batch\n",
    "        batch = df.iloc[start_idx:end_idx].copy()\n",
    "        \n",
    "        # Filter out already processed records\n",
    "        if 'encounterkey' in batch.columns:\n",
    "            batch = batch[~batch['encounterkey'].isin(processed_ids)]\n",
    "        else:\n",
    "            batch = batch.iloc[[i for i in range(start_idx, end_idx) if i not in processed_ids]]\n",
    "        \n",
    "        if len(batch) == 0:\n",
    "            continue\n",
    "        \n",
    "        print(f\"Processing batch {batch_num+1}/{total_batches}, records {start_idx}-{end_idx}\")\n",
    "        \n",
    "        # Process each record in batch\n",
    "        for idx, row in tqdm(batch.iterrows(), total=len(batch)):\n",
    "            # Make prediction\n",
    "            prediction = predict_acuity_with_all_info(row)\n",
    "            \n",
    "            # Add prediction to row\n",
    "            row_copy = row.copy()\n",
    "            row_copy['predicted_acuity'] = prediction\n",
    "            \n",
    "            # Append to results dataframe\n",
    "            processed_df = pd.concat([processed_df, pd.DataFrame([row_copy])], ignore_index=True)\n",
    "            \n",
    "            # Mark as processed\n",
    "            if 'encounterkey' in row:\n",
    "                processed_ids.add(row['encounterkey'])\n",
    "            else:\n",
    "                processed_ids.add(idx)\n",
    "            \n",
    "            # Update progress count\n",
    "            processed_count += 1\n",
    "        \n",
    "        # Save checkpoint after each batch\n",
    "        processed_df.to_csv(checkpoint_file, index=False)\n",
    "        \n",
    "        # Calculate and display progress statistics\n",
    "        elapsed_time = time.time() - start_time\n",
    "        records_per_second = processed_count / elapsed_time if elapsed_time > 0 else 0\n",
    "        estimated_remaining = (total_records - processed_count) / records_per_second if records_per_second > 0 else float('inf')\n",
    "        \n",
    "        print(f\"Progress: {processed_count}/{total_records} records ({processed_count/total_records:.1%})\")\n",
    "        print(f\"Speed: {records_per_second:.2f} records/second\")\n",
    "        print(f\"Est. time remaining: {estimated_remaining/60:.1f} minutes\")\n",
    "        print(f\"Checkpoint saved at: {checkpoint_file}\")\n",
    "        \n",
    "        # Add a short pause between batches to be nice to the API\n",
    "        time.sleep(2)\n",
    "    \n",
    "    return processed_df\n",
    "\n",
    "# Calculate accuracy\n",
    "def calculate_accuracy(df):\n",
    "    # Filter out rows with failed predictions\n",
    "    valid_df = df[df['predicted_acuity'].isin(['Immediate', 'Emergent', 'Urgent', 'Less Urgent', 'Non-Urgent'])]\n",
    "    \n",
    "    # Count matches\n",
    "    matches = (valid_df['predicted_acuity'] == valid_df['acuitylevel']).sum()\n",
    "    total = len(valid_df)\n",
    "    \n",
    "    accuracy = matches / total if total > 0 else 0\n",
    "    print(f\"Accuracy: {matches}/{total} = {accuracy:.4f} ({accuracy:.2%})\")\n",
    "    \n",
    "    # Count by acuity level\n",
    "    print(\"\\nAccuracy by acuity level:\")\n",
    "    for level in ['Immediate', 'Emergent', 'Urgent', 'Less Urgent', 'Non-Urgent']:\n",
    "        level_df = valid_df[valid_df['acuitylevel'] == level]\n",
    "        if len(level_df) > 0:\n",
    "            level_matches = (level_df['predicted_acuity'] == level_df['acuitylevel']).sum()\n",
    "            level_accuracy = level_matches / len(level_df)\n",
    "            print(f\"{level}: {level_matches}/{len(level_df)} = {level_accuracy:.4f} ({level_accuracy:.2%})\")\n",
    "    \n",
    "    return accuracy\n",
    "\n",
    "# Main execution\n",
    "if __name__ == \"__main__\":\n",
    "    # Load the data\n",
    "    print(\"Loading data...\")\n",
    "    \n",
    "    print(f\"Loaded {len(df)} records\")\n",
    "    print(\"Starting prediction process with all information...\")\n",
    "    \n",
    "    # Run the prediction with all information\n",
    "    results_df = process_with_checkpoints(df)\n",
    "    \n",
    "    # Calculate and display accuracy\n",
    "    accuracy = calculate_accuracy(results_df)\n",
    "    \n",
    "    # Save final results\n",
    "    final_output = \"35_acuity_prediction_results_all_info.csv\"\n",
    "    results_df.to_csv(final_output, index=False)\n",
    "    print(f\"Final results saved to {final_output}\")"
   ]
  },
  {
   "cell_type": "code",
   "execution_count": null,
   "metadata": {},
   "outputs": [],
   "source": []
  }
 ],
 "metadata": {
  "kernelspec": {
   "display_name": "Python 3",
   "language": "python",
   "name": "python3"
  },
  "language_info": {
   "codemirror_mode": {
    "name": "ipython",
    "version": 3
   },
   "file_extension": ".py",
   "mimetype": "text/x-python",
   "name": "python",
   "nbconvert_exporter": "python",
   "pygments_lexer": "ipython3",
   "version": "3.7.9"
  }
 },
 "nbformat": 4,
 "nbformat_minor": 4
}
