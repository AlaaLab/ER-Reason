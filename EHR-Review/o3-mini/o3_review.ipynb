{
 "cells": [
  {
   "cell_type": "code",
   "execution_count": null,
   "metadata": {},
   "outputs": [],
   "source": [
    "### o3 ehr review "
   ]
  },
  {
   "cell_type": "code",
   "execution_count": 1,
   "metadata": {},
   "outputs": [],
   "source": [
    "import pandas as pd\n",
    "pd.set_option('display.max_rows', None)  # Display all rows\n",
    "pd.set_option('display.max_columns', None)  # Display all columns\n",
    "pd.set_option('display.max_colwidth', None)  # Set max column width to None\n",
    "pd.set_option('display.width', None)  # Set width to None\n",
    "df = pd.read_csv('results.csv')"
   ]
  },
  {
   "cell_type": "code",
   "execution_count": 2,
   "metadata": {},
   "outputs": [],
   "source": [
    "import pandas as pd\n",
    "import os\n",
    "import re\n",
    "import json\n",
    "import base64\n",
    "import requests\n",
    "import time\n",
    "import urllib.parse\n",
    "import os\n",
    "\n",
    "from dotenv import load_dotenv, find_dotenv\n",
    "from openai import AzureOpenAI\n",
    "\n",
    "_ = load_dotenv(find_dotenv()) \n",
    "\n",
    "pd.set_option('display.max_rows', None)  # Display all rows\n",
    "pd.set_option('display.max_columns', None)  # Display all columns\n",
    "pd.set_option('display.max_colwidth', None)  # Set max column width to None\n",
    "pd.set_option('display.width', None)  # Set width to None\n",
    "# First, let's test by hard coding your Mulesoft Azure API key into the next line\n",
    "API_KEY = 'X'  ##### Paste your API key between the quotes #####\n",
    "API_VERSION = '2024-12-01-preview'  # For the most recent production release: https://learn.microsoft.com/en-us/azure/ai-services/openai/api-version-deprecation#latest-ga-api-release\n",
    "RESOURCE_ENDPOINT = 'X'  # no trailing slash--this is used by libraries as a partial URL\n",
    "DEPLOYMENT_NAME = \"o3-mini-2025-01-31\" "
   ]
  },
  {
   "cell_type": "code",
   "execution_count": 3,
   "metadata": {},
   "outputs": [
    {
     "data": {
      "text/plain": [
       "<openai.lib.azure.AzureOpenAI at 0x7f4c6c6d27d0>"
      ]
     },
     "execution_count": 3,
     "metadata": {},
     "output_type": "execute_result"
    }
   ],
   "source": [
    "client = AzureOpenAI(\n",
    "    api_key=API_KEY,\n",
    "    api_version=API_VERSION,\n",
    "    azure_endpoint=RESOURCE_ENDPOINT,\n",
    ")\n",
    "\n",
    "client"
   ]
  },
  {
   "cell_type": "code",
   "execution_count": 4,
   "metadata": {},
   "outputs": [
    {
     "name": "stdout",
     "output_type": "stream",
     "text": [
      "Resuming from index 3520\n"
     ]
    },
    {
     "name": "stderr",
     "output_type": "stream",
     "text": [
      "Processing records:  89%|████████▊ | 3530/3984 [03:06<2:32:04, 20.10s/it]"
     ]
    },
    {
     "name": "stdout",
     "output_type": "stream",
     "text": [
      "\n",
      "Checkpoint saved at index 3529\n"
     ]
    },
    {
     "name": "stderr",
     "output_type": "stream",
     "text": [
      "Processing records:  89%|████████▉ | 3540/3984 [05:43<2:02:05, 16.50s/it]"
     ]
    },
    {
     "name": "stdout",
     "output_type": "stream",
     "text": [
      "\n",
      "Checkpoint saved at index 3539\n"
     ]
    },
    {
     "name": "stderr",
     "output_type": "stream",
     "text": [
      "Processing records:  89%|████████▉ | 3550/3984 [08:21<1:43:11, 14.27s/it]"
     ]
    },
    {
     "name": "stdout",
     "output_type": "stream",
     "text": [
      "\n",
      "Checkpoint saved at index 3549\n"
     ]
    },
    {
     "name": "stderr",
     "output_type": "stream",
     "text": [
      "Processing records:  89%|████████▉ | 3560/3984 [11:01<1:38:05, 13.88s/it]"
     ]
    },
    {
     "name": "stdout",
     "output_type": "stream",
     "text": [
      "\n",
      "Checkpoint saved at index 3559\n"
     ]
    },
    {
     "name": "stderr",
     "output_type": "stream",
     "text": [
      "Processing records:  90%|████████▉ | 3570/3984 [14:00<2:04:18, 18.02s/it]"
     ]
    },
    {
     "name": "stdout",
     "output_type": "stream",
     "text": [
      "\n",
      "Checkpoint saved at index 3569\n"
     ]
    },
    {
     "name": "stderr",
     "output_type": "stream",
     "text": [
      "Processing records:  90%|████████▉ | 3580/3984 [16:45<1:51:13, 16.52s/it]"
     ]
    },
    {
     "name": "stdout",
     "output_type": "stream",
     "text": [
      "\n",
      "Checkpoint saved at index 3579\n"
     ]
    },
    {
     "name": "stderr",
     "output_type": "stream",
     "text": [
      "Processing records:  90%|█████████ | 3590/3984 [19:40<1:33:30, 14.24s/it]"
     ]
    },
    {
     "name": "stdout",
     "output_type": "stream",
     "text": [
      "\n",
      "Checkpoint saved at index 3589\n"
     ]
    },
    {
     "name": "stderr",
     "output_type": "stream",
     "text": [
      "Processing records:  90%|█████████ | 3600/3984 [22:34<1:58:35, 18.53s/it]"
     ]
    },
    {
     "name": "stdout",
     "output_type": "stream",
     "text": [
      "\n",
      "Checkpoint saved at index 3599\n"
     ]
    },
    {
     "name": "stderr",
     "output_type": "stream",
     "text": [
      "Processing records:  91%|█████████ | 3610/3984 [25:49<2:16:31, 21.90s/it]"
     ]
    },
    {
     "name": "stdout",
     "output_type": "stream",
     "text": [
      "\n",
      "Checkpoint saved at index 3609\n"
     ]
    },
    {
     "name": "stderr",
     "output_type": "stream",
     "text": [
      "Processing records:  91%|█████████ | 3620/3984 [29:35<2:17:55, 22.73s/it]"
     ]
    },
    {
     "name": "stdout",
     "output_type": "stream",
     "text": [
      "\n",
      "Checkpoint saved at index 3619\n"
     ]
    },
    {
     "name": "stderr",
     "output_type": "stream",
     "text": [
      "Processing records:  91%|█████████ | 3630/3984 [32:26<1:36:33, 16.36s/it]"
     ]
    },
    {
     "name": "stdout",
     "output_type": "stream",
     "text": [
      "\n",
      "Checkpoint saved at index 3629\n"
     ]
    },
    {
     "name": "stderr",
     "output_type": "stream",
     "text": [
      "Processing records:  91%|█████████▏| 3640/3984 [36:15<2:21:03, 24.60s/it]"
     ]
    },
    {
     "name": "stdout",
     "output_type": "stream",
     "text": [
      "\n",
      "Checkpoint saved at index 3639\n"
     ]
    },
    {
     "name": "stderr",
     "output_type": "stream",
     "text": [
      "Processing records:  92%|█████████▏| 3650/3984 [39:51<1:49:17, 19.63s/it]"
     ]
    },
    {
     "name": "stdout",
     "output_type": "stream",
     "text": [
      "\n",
      "Checkpoint saved at index 3649\n"
     ]
    },
    {
     "name": "stderr",
     "output_type": "stream",
     "text": [
      "Processing records:  92%|█████████▏| 3660/3984 [42:32<1:17:56, 14.43s/it]"
     ]
    },
    {
     "name": "stdout",
     "output_type": "stream",
     "text": [
      "\n",
      "Checkpoint saved at index 3659\n"
     ]
    },
    {
     "name": "stderr",
     "output_type": "stream",
     "text": [
      "Processing records:  92%|█████████▏| 3670/3984 [44:56<1:21:24, 15.56s/it]"
     ]
    },
    {
     "name": "stdout",
     "output_type": "stream",
     "text": [
      "\n",
      "Checkpoint saved at index 3669\n"
     ]
    },
    {
     "name": "stderr",
     "output_type": "stream",
     "text": [
      "Processing records:  92%|█████████▏| 3680/3984 [47:45<1:32:25, 18.24s/it]"
     ]
    },
    {
     "name": "stdout",
     "output_type": "stream",
     "text": [
      "\n",
      "Checkpoint saved at index 3679\n"
     ]
    },
    {
     "name": "stderr",
     "output_type": "stream",
     "text": [
      "Processing records:  93%|█████████▎| 3690/3984 [50:55<1:32:21, 18.85s/it]"
     ]
    },
    {
     "name": "stdout",
     "output_type": "stream",
     "text": [
      "\n",
      "Checkpoint saved at index 3689\n"
     ]
    },
    {
     "name": "stderr",
     "output_type": "stream",
     "text": [
      "Processing records:  93%|█████████▎| 3700/3984 [54:13<2:01:44, 25.72s/it]"
     ]
    },
    {
     "name": "stdout",
     "output_type": "stream",
     "text": [
      "\n",
      "Checkpoint saved at index 3699\n"
     ]
    },
    {
     "name": "stderr",
     "output_type": "stream",
     "text": [
      "Processing records:  93%|█████████▎| 3710/3984 [57:23<1:15:34, 16.55s/it]"
     ]
    },
    {
     "name": "stdout",
     "output_type": "stream",
     "text": [
      "\n",
      "Checkpoint saved at index 3709\n"
     ]
    },
    {
     "name": "stderr",
     "output_type": "stream",
     "text": [
      "Processing records:  93%|█████████▎| 3720/3984 [1:00:20<1:21:50, 18.60s/it]"
     ]
    },
    {
     "name": "stdout",
     "output_type": "stream",
     "text": [
      "\n",
      "Checkpoint saved at index 3719\n"
     ]
    },
    {
     "name": "stderr",
     "output_type": "stream",
     "text": [
      "Processing records:  94%|█████████▎| 3730/3984 [1:03:39<1:27:59, 20.79s/it]"
     ]
    },
    {
     "name": "stdout",
     "output_type": "stream",
     "text": [
      "\n",
      "Checkpoint saved at index 3729\n"
     ]
    },
    {
     "name": "stderr",
     "output_type": "stream",
     "text": [
      "Processing records:  94%|█████████▍| 3740/3984 [1:07:03<1:23:22, 20.50s/it]"
     ]
    },
    {
     "name": "stdout",
     "output_type": "stream",
     "text": [
      "\n",
      "Checkpoint saved at index 3739\n"
     ]
    },
    {
     "name": "stderr",
     "output_type": "stream",
     "text": [
      "Processing records:  94%|█████████▍| 3750/3984 [1:09:35<56:42, 14.54s/it]  "
     ]
    },
    {
     "name": "stdout",
     "output_type": "stream",
     "text": [
      "\n",
      "Checkpoint saved at index 3749\n"
     ]
    },
    {
     "name": "stderr",
     "output_type": "stream",
     "text": [
      "Processing records:  94%|█████████▍| 3760/3984 [1:11:55<48:30, 12.99s/it]  "
     ]
    },
    {
     "name": "stdout",
     "output_type": "stream",
     "text": [
      "\n",
      "Checkpoint saved at index 3759\n"
     ]
    },
    {
     "name": "stderr",
     "output_type": "stream",
     "text": [
      "Processing records:  95%|█████████▍| 3770/3984 [1:15:03<1:08:22, 19.17s/it]"
     ]
    },
    {
     "name": "stdout",
     "output_type": "stream",
     "text": [
      "\n",
      "Checkpoint saved at index 3769\n"
     ]
    },
    {
     "name": "stderr",
     "output_type": "stream",
     "text": [
      "Processing records:  95%|█████████▍| 3780/3984 [1:17:48<52:31, 15.45s/it]  "
     ]
    },
    {
     "name": "stdout",
     "output_type": "stream",
     "text": [
      "\n",
      "Checkpoint saved at index 3779\n"
     ]
    },
    {
     "name": "stderr",
     "output_type": "stream",
     "text": [
      "Processing records:  95%|█████████▌| 3790/3984 [1:20:15<40:31, 12.54s/it]  "
     ]
    },
    {
     "name": "stdout",
     "output_type": "stream",
     "text": [
      "\n",
      "Checkpoint saved at index 3789\n"
     ]
    },
    {
     "name": "stderr",
     "output_type": "stream",
     "text": [
      "Processing records:  95%|█████████▌| 3800/3984 [1:22:33<44:31, 14.52s/it]"
     ]
    },
    {
     "name": "stdout",
     "output_type": "stream",
     "text": [
      "\n",
      "Checkpoint saved at index 3799\n"
     ]
    },
    {
     "name": "stderr",
     "output_type": "stream",
     "text": [
      "Processing records:  96%|█████████▌| 3810/3984 [1:25:52<56:15, 19.40s/it]"
     ]
    },
    {
     "name": "stdout",
     "output_type": "stream",
     "text": [
      "\n",
      "Checkpoint saved at index 3809\n"
     ]
    },
    {
     "name": "stderr",
     "output_type": "stream",
     "text": [
      "Processing records:  96%|█████████▌| 3820/3984 [1:29:01<47:56, 17.54s/it]  "
     ]
    },
    {
     "name": "stdout",
     "output_type": "stream",
     "text": [
      "\n",
      "Checkpoint saved at index 3819\n"
     ]
    },
    {
     "name": "stderr",
     "output_type": "stream",
     "text": [
      "Processing records:  96%|█████████▌| 3830/3984 [1:31:50<41:49, 16.30s/it]  "
     ]
    },
    {
     "name": "stdout",
     "output_type": "stream",
     "text": [
      "\n",
      "Checkpoint saved at index 3829\n"
     ]
    },
    {
     "name": "stderr",
     "output_type": "stream",
     "text": [
      "Processing records:  96%|█████████▋| 3840/3984 [1:35:59<1:05:32, 27.31s/it]"
     ]
    },
    {
     "name": "stdout",
     "output_type": "stream",
     "text": [
      "\n",
      "Checkpoint saved at index 3839\n"
     ]
    },
    {
     "name": "stderr",
     "output_type": "stream",
     "text": [
      "Processing records:  97%|█████████▋| 3850/3984 [1:38:43<37:32, 16.81s/it]  "
     ]
    },
    {
     "name": "stdout",
     "output_type": "stream",
     "text": [
      "\n",
      "Checkpoint saved at index 3849\n"
     ]
    },
    {
     "name": "stderr",
     "output_type": "stream",
     "text": [
      "Processing records:  97%|█████████▋| 3860/3984 [1:42:11<47:00, 22.75s/it]"
     ]
    },
    {
     "name": "stdout",
     "output_type": "stream",
     "text": [
      "\n",
      "Checkpoint saved at index 3859\n"
     ]
    },
    {
     "name": "stderr",
     "output_type": "stream",
     "text": [
      "Processing records:  97%|█████████▋| 3870/3984 [1:45:07<26:19, 13.85s/it]"
     ]
    },
    {
     "name": "stdout",
     "output_type": "stream",
     "text": [
      "\n",
      "Checkpoint saved at index 3869\n"
     ]
    },
    {
     "name": "stderr",
     "output_type": "stream",
     "text": [
      "Processing records:  97%|█████████▋| 3880/3984 [1:48:29<31:48, 18.35s/it]"
     ]
    },
    {
     "name": "stdout",
     "output_type": "stream",
     "text": [
      "\n",
      "Checkpoint saved at index 3879\n"
     ]
    },
    {
     "name": "stderr",
     "output_type": "stream",
     "text": [
      "Processing records:  98%|█████████▊| 3890/3984 [1:51:28<28:11, 17.99s/it]"
     ]
    },
    {
     "name": "stdout",
     "output_type": "stream",
     "text": [
      "\n",
      "Checkpoint saved at index 3889\n"
     ]
    },
    {
     "name": "stderr",
     "output_type": "stream",
     "text": [
      "Processing records:  98%|█████████▊| 3900/3984 [1:54:52<31:43, 22.66s/it]"
     ]
    },
    {
     "name": "stdout",
     "output_type": "stream",
     "text": [
      "\n",
      "Checkpoint saved at index 3899\n"
     ]
    },
    {
     "name": "stderr",
     "output_type": "stream",
     "text": [
      "Processing records:  98%|█████████▊| 3910/3984 [1:57:47<21:59, 17.83s/it]"
     ]
    },
    {
     "name": "stdout",
     "output_type": "stream",
     "text": [
      "\n",
      "Checkpoint saved at index 3909\n"
     ]
    },
    {
     "name": "stderr",
     "output_type": "stream",
     "text": [
      "Processing records:  98%|█████████▊| 3920/3984 [2:01:06<18:36, 17.44s/it]"
     ]
    },
    {
     "name": "stdout",
     "output_type": "stream",
     "text": [
      "\n",
      "Checkpoint saved at index 3919\n"
     ]
    },
    {
     "name": "stderr",
     "output_type": "stream",
     "text": [
      "Processing records:  99%|█████████▊| 3930/3984 [2:04:41<20:08, 22.37s/it]"
     ]
    },
    {
     "name": "stdout",
     "output_type": "stream",
     "text": [
      "\n",
      "Checkpoint saved at index 3929\n"
     ]
    },
    {
     "name": "stderr",
     "output_type": "stream",
     "text": [
      "Processing records:  99%|█████████▉| 3940/3984 [2:07:41<17:03, 23.26s/it]"
     ]
    },
    {
     "name": "stdout",
     "output_type": "stream",
     "text": [
      "\n",
      "Checkpoint saved at index 3939\n"
     ]
    },
    {
     "name": "stderr",
     "output_type": "stream",
     "text": [
      "Processing records:  99%|█████████▉| 3950/3984 [2:11:29<09:44, 17.18s/it]"
     ]
    },
    {
     "name": "stdout",
     "output_type": "stream",
     "text": [
      "\n",
      "Checkpoint saved at index 3949\n"
     ]
    },
    {
     "name": "stderr",
     "output_type": "stream",
     "text": [
      "Processing records:  99%|█████████▉| 3960/3984 [2:14:33<05:50, 14.60s/it]"
     ]
    },
    {
     "name": "stdout",
     "output_type": "stream",
     "text": [
      "\n",
      "Checkpoint saved at index 3959\n"
     ]
    },
    {
     "name": "stderr",
     "output_type": "stream",
     "text": [
      "Processing records: 100%|█████████▉| 3970/3984 [2:16:27<02:18,  9.93s/it]"
     ]
    },
    {
     "name": "stdout",
     "output_type": "stream",
     "text": [
      "\n",
      "Checkpoint saved at index 3969\n"
     ]
    },
    {
     "name": "stderr",
     "output_type": "stream",
     "text": [
      "Processing records: 100%|█████████▉| 3980/3984 [2:19:07<01:04, 16.14s/it]"
     ]
    },
    {
     "name": "stdout",
     "output_type": "stream",
     "text": [
      "\n",
      "Checkpoint saved at index 3979\n"
     ]
    },
    {
     "name": "stderr",
     "output_type": "stream",
     "text": [
      "Processing records: 100%|██████████| 3984/3984 [2:20:15<00:00, 18.14s/it]"
     ]
    },
    {
     "name": "stdout",
     "output_type": "stream",
     "text": [
      "\n",
      "Checkpoint saved at index 3983\n",
      "Processing complete. Results saved to o3_ehr_review.csv\n"
     ]
    },
    {
     "name": "stderr",
     "output_type": "stream",
     "text": [
      "\n"
     ]
    }
   ],
   "source": [
    "import pandas as pd\n",
    "import requests\n",
    "import time\n",
    "import os\n",
    "import json\n",
    "from tqdm import tqdm  # For progress bar\n",
    "\n",
    "# Function to get a summary from Azure OpenAI\n",
    "def get_summary(chief_complaint, discharge_summary, age, sex):\n",
    "    # Check if key fields are missing\n",
    "    if pd.isna(chief_complaint) or pd.isna(discharge_summary):\n",
    "        return None  # Skip if any key field is missing\n",
    "    \n",
    "    url = f\"{RESOURCE_ENDPOINT}/openai/deployments/{DEPLOYMENT_NAME}/chat/completions?api-version={API_VERSION}\"\n",
    "    \n",
    "    headers = {\n",
    "        \"Content-Type\": \"application/json\",\n",
    "        \"api-key\": API_KEY\n",
    "    }\n",
    "    \n",
    "    payload = {\n",
    "        \"messages\": [\n",
    "            {\"role\": \"user\", \"content\": f\"You are an experienced emergency department (ED) physician creating a one-liner for a NEW patient who has just arrived at the ED. The patient's past medical records are available to you. Your task is to summarize the patient's relevant PAST medical history and end with their CURRENT chief complaint that is given with no adjectives about the chief complaint as you can NOT assume anything about their current condition. All notes and medical records provided are from PAST encounters, not the current visit.Create a concise one-liner summary for a patient who has just arrived at the Emergency Department. The one-liner must:\\n\\n\"\n",
    "                                      f\"1. Start with demographic information (age, sex). Example of a one liner:  80 y.o. old male, with h/o of HFpEF (EF 55-60% 05/20/22), HTN, HLD, and bipolar disorder presenting with shortness of breath. \\n\"\n",
    "                                      f\"2. Include a concise summary of relevant PAST medical history from previous visits/notes\\n\"\n",
    "                                      f\"3. End with just CURRENT presenting chief complaint that is not capitilized in the summary and does have additional information regarding the chief complaint: '{chief_complaint}'\\n\\n\"\n",
    "                                      f\"IMPORTANT: Everything in the notes is from PAST encounters. The patient is NOW presenting with a NEW complaint: '{chief_complaint}'.\\n\\n\"\n",
    "                                      f\"Age: {age}\\n\"\n",
    "                                      f\"Sex: {sex}\\n\"\n",
    "                                      f\"PAST Medical Records:\\n{discharge_summary}\"}\n",
    "        ],\n",
    "      #  \"temperature\": 0.1,\n",
    "        \"max_completion_tokens\": 4096\n",
    "    }\n",
    "    \n",
    "    retries = 0\n",
    "    max_retries = 5  # Increased from 3 to 5\n",
    "    backoff_factor = 2  # For exponential backoff\n",
    "    \n",
    "    while retries < max_retries:\n",
    "        try:\n",
    "            response = requests.post(url, headers=headers, json=payload)\n",
    "            \n",
    "            # Handle rate limiting (status code 429) or other 4xx errors\n",
    "            if response.status_code == 429 or (response.status_code >= 400 and response.status_code < 500):\n",
    "                wait_time = (backoff_factor ** retries) * 2  # Exponential backoff\n",
    "                print(f\"Rate limit hit or error {response.status_code}. Waiting for {wait_time} seconds before retry...\")\n",
    "                time.sleep(wait_time)\n",
    "                retries += 1\n",
    "                continue\n",
    "                \n",
    "            response.raise_for_status()  # Raise an error for other non-200 responses\n",
    "            return response.json()[\"choices\"][0][\"message\"][\"content\"].strip()\n",
    "            \n",
    "        except requests.exceptions.RequestException as e:\n",
    "            print(f\"Request failed: {e}. Retrying {retries+1}/{max_retries}...\")\n",
    "            wait_time = (backoff_factor ** retries) * 2  # Exponential backoff\n",
    "            time.sleep(wait_time)\n",
    "            retries += 1\n",
    "    \n",
    "    return None  # Return None if all retries fail\n",
    "\n",
    "# Function to process dataframe with checkpoint saving\n",
    "def process_dataframe_with_checkpoints(df, checkpoint_file=\"o3_processing_checkpoint.json\", output_file=\"o3_ehr_review.csv\", batch_size=10):\n",
    "    # Check if there's a checkpoint to resume from\n",
    "    start_index = 0\n",
    "    if os.path.exists(checkpoint_file):\n",
    "        with open(checkpoint_file, 'r') as f:\n",
    "            checkpoint_data = json.load(f)\n",
    "            start_index = checkpoint_data.get('last_processed_index', 0) + 1\n",
    "            print(f\"Resuming from index {start_index}\")\n",
    "            \n",
    "            # If there's a partially processed CSV, load it\n",
    "            if os.path.exists(output_file):\n",
    "                saved_df = pd.read_csv(output_file)\n",
    "                # Ensure it has the Generated_Summary column\n",
    "                if 'Generated_Summary' not in saved_df.columns:\n",
    "                    saved_df['Generated_Summary'] = None\n",
    "                # Transfer any already processed summaries\n",
    "                for idx in range(start_index):\n",
    "                    if idx < len(df) and idx < len(saved_df):\n",
    "                        if not pd.isna(saved_df.loc[idx, 'Generated_Summary']):\n",
    "                            df.loc[idx, 'Generated_Summary'] = saved_df.loc[idx, 'Generated_Summary']\n",
    "\n",
    "    # Initialize Generated_Summary column if it doesn't exist\n",
    "    if 'Generated_Summary' not in df.columns:\n",
    "        df['Generated_Summary'] = None\n",
    "    \n",
    "    # Process in batches with progress bar\n",
    "    total_rows = len(df)\n",
    "    progress_bar = tqdm(total=total_rows, initial=start_index, desc=\"Processing records\")\n",
    "    \n",
    "    for i in range(start_index, total_rows):\n",
    "        row = df.iloc[i]\n",
    "        \n",
    "        # Process the current row\n",
    "        summary = get_summary(\n",
    "            row[\"primarychiefcomplaintname\"], \n",
    "            row[\"Discharge_Summary_Text\"],\n",
    "            row[\"Age\"],\n",
    "            row[\"sex\"]\n",
    "        )\n",
    "        \n",
    "        # Update dataframe\n",
    "        df.loc[i, 'Generated_Summary'] = summary\n",
    "        \n",
    "        # Update progress bar\n",
    "        progress_bar.update(1)\n",
    "        \n",
    "        # Add delay between API calls to prevent rate limiting\n",
    "        time.sleep(1)  # Wait 1 second between calls\n",
    "        \n",
    "        # Save checkpoint and intermediate results after each batch\n",
    "        if (i + 1) % batch_size == 0 or i == total_rows - 1:\n",
    "            # Save checkpoint\n",
    "            with open(checkpoint_file, 'w') as f:\n",
    "                json.dump({'last_processed_index': i}, f)\n",
    "            \n",
    "            # Save current results\n",
    "            df.to_csv(output_file, index=False)\n",
    "            print(f\"\\nCheckpoint saved at index {i}\")\n",
    "    \n",
    "    progress_bar.close()\n",
    "    print(f\"Processing complete. Results saved to {output_file}\")\n",
    "    \n",
    "    # Clean up checkpoint file when done\n",
    "    if os.path.exists(checkpoint_file):\n",
    "        os.remove(checkpoint_file)\n",
    "    \n",
    "    return df\n",
    "\n",
    "# Apply the processing function to the dataframe\n",
    "df = process_dataframe_with_checkpoints(df)"
   ]
  },
  {
   "cell_type": "code",
   "execution_count": null,
   "metadata": {},
   "outputs": [],
   "source": []
  }
 ],
 "metadata": {
  "kernelspec": {
   "display_name": "Python 3",
   "language": "python",
   "name": "python3"
  },
  "language_info": {
   "codemirror_mode": {
    "name": "ipython",
    "version": 3
   },
   "file_extension": ".py",
   "mimetype": "text/x-python",
   "name": "python",
   "nbconvert_exporter": "python",
   "pygments_lexer": "ipython3",
   "version": "3.7.9"
  }
 },
 "nbformat": 4,
 "nbformat_minor": 4
}
